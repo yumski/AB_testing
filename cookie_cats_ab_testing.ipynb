{
 "cells": [
  {
   "cell_type": "code",
   "execution_count": 1,
   "id": "d9ebfdd0-1c3b-49be-a70c-d7445e206a3b",
   "metadata": {},
   "outputs": [],
   "source": [
    "import pandas as pd\n",
    "import numpy as np\n",
    "from scipy import stats\n",
    "from statsmodels.stats import power as pwr\n",
    "\n",
    "import matplotlib.pyplot as plt\n",
    "%matplotlib inline"
   ]
  },
  {
   "cell_type": "markdown",
   "id": "06a736ec-dfc9-4568-b59a-7649f64b4949",
   "metadata": {},
   "source": [
    "# Player Retention A/B Testing\n",
    "\n",
    "## Project Overview:\n",
    "\n",
    "This project is based on and uses data from the DataCamp project [A/B Testing with Cookie Cat](https://projects.datacamp.com/projects/184). \n",
    "\n",
    "### Excerpt from the DataCamp Description of the Game\n",
    "Cookie Cats is a hugely popular mobile puzzle game developed by Tactile Entertainment. It's a classic \"connect three\"-style puzzle game where the player must connect tiles of the same color to clear the board and win the level. It also features singing cats. \n",
    "\n",
    "As players progress through the game levels, they will occasionally encounter gates that force them to wait a non-trivial amount of time or make an in-app purchase to progress. In addition to driving in-app purchases, these gates serve the critical purpose of giving players an enforced break from playing the game, hopefully resulting in the player's enjoyment of the game being increased and prolonged.\n",
    "\n",
    "### Project Goal\n",
    "\n",
    "This project aims to find if there is a statistically significant difference in the percentage of player retention by setting the gate at level 30 or 40. I will examine the one-day and seven-day retention rates using two different types of A/B testing techniques. \n",
    "\n",
    "### Data Dictionary\n",
    "\n",
    "The data is from 90,189 players that installed the game while the AB-test was running. The variables are:\n",
    "\n",
    "- userid - a unique number that identifies each player.\n",
    "- version - whether the player was put in the control group (gate_30 - a gate at level 30) or the group with the moved gate (gate_40 - a gate at level 40).\n",
    "- sum_gamerounds - the number of game rounds played by the player during the first 14 days after install.\n",
    "- retention_1 - did the player come back and play 1 day after installing?\n",
    "- retention_7 - did the player come back and play 7 days after installing?\n",
    "\n",
    "## Data Loading and Cleaning"
   ]
  },
  {
   "cell_type": "code",
   "execution_count": 2,
   "id": "af7ca04e-1868-446d-bebd-82b8db11a8fb",
   "metadata": {},
   "outputs": [],
   "source": [
    "df = pd.read_csv('cookie_cats.csv')"
   ]
  },
  {
   "cell_type": "code",
   "execution_count": 3,
   "id": "b2f097ab-4188-4aab-ae93-bb19ae4195a0",
   "metadata": {},
   "outputs": [
    {
     "data": {
      "text/plain": [
       "(90189, 5)"
      ]
     },
     "execution_count": 3,
     "metadata": {},
     "output_type": "execute_result"
    }
   ],
   "source": [
    "df.shape"
   ]
  },
  {
   "cell_type": "code",
   "execution_count": 4,
   "id": "44d219e1-efcd-4ec1-8df7-cb331ec34c53",
   "metadata": {},
   "outputs": [
    {
     "data": {
      "text/html": [
       "<div>\n",
       "<style scoped>\n",
       "    .dataframe tbody tr th:only-of-type {\n",
       "        vertical-align: middle;\n",
       "    }\n",
       "\n",
       "    .dataframe tbody tr th {\n",
       "        vertical-align: top;\n",
       "    }\n",
       "\n",
       "    .dataframe thead th {\n",
       "        text-align: right;\n",
       "    }\n",
       "</style>\n",
       "<table border=\"1\" class=\"dataframe\">\n",
       "  <thead>\n",
       "    <tr style=\"text-align: right;\">\n",
       "      <th></th>\n",
       "      <th>userid</th>\n",
       "      <th>version</th>\n",
       "      <th>sum_gamerounds</th>\n",
       "      <th>retention_1</th>\n",
       "      <th>retention_7</th>\n",
       "    </tr>\n",
       "  </thead>\n",
       "  <tbody>\n",
       "    <tr>\n",
       "      <th>0</th>\n",
       "      <td>116</td>\n",
       "      <td>gate_30</td>\n",
       "      <td>3</td>\n",
       "      <td>False</td>\n",
       "      <td>False</td>\n",
       "    </tr>\n",
       "    <tr>\n",
       "      <th>1</th>\n",
       "      <td>337</td>\n",
       "      <td>gate_30</td>\n",
       "      <td>38</td>\n",
       "      <td>True</td>\n",
       "      <td>False</td>\n",
       "    </tr>\n",
       "    <tr>\n",
       "      <th>2</th>\n",
       "      <td>377</td>\n",
       "      <td>gate_40</td>\n",
       "      <td>165</td>\n",
       "      <td>True</td>\n",
       "      <td>False</td>\n",
       "    </tr>\n",
       "    <tr>\n",
       "      <th>3</th>\n",
       "      <td>483</td>\n",
       "      <td>gate_40</td>\n",
       "      <td>1</td>\n",
       "      <td>False</td>\n",
       "      <td>False</td>\n",
       "    </tr>\n",
       "    <tr>\n",
       "      <th>4</th>\n",
       "      <td>488</td>\n",
       "      <td>gate_40</td>\n",
       "      <td>179</td>\n",
       "      <td>True</td>\n",
       "      <td>True</td>\n",
       "    </tr>\n",
       "  </tbody>\n",
       "</table>\n",
       "</div>"
      ],
      "text/plain": [
       "   userid  version  sum_gamerounds  retention_1  retention_7\n",
       "0     116  gate_30               3        False        False\n",
       "1     337  gate_30              38         True        False\n",
       "2     377  gate_40             165         True        False\n",
       "3     483  gate_40               1        False        False\n",
       "4     488  gate_40             179         True         True"
      ]
     },
     "execution_count": 4,
     "metadata": {},
     "output_type": "execute_result"
    }
   ],
   "source": [
    "df.head()"
   ]
  },
  {
   "cell_type": "code",
   "execution_count": 5,
   "id": "15e1b30a-8537-47ca-a646-06846950a3f5",
   "metadata": {},
   "outputs": [
    {
     "name": "stdout",
     "output_type": "stream",
     "text": [
      "<class 'pandas.core.frame.DataFrame'>\n",
      "RangeIndex: 90189 entries, 0 to 90188\n",
      "Data columns (total 5 columns):\n",
      " #   Column          Non-Null Count  Dtype \n",
      "---  ------          --------------  ----- \n",
      " 0   userid          90189 non-null  int64 \n",
      " 1   version         90189 non-null  object\n",
      " 2   sum_gamerounds  90189 non-null  int64 \n",
      " 3   retention_1     90189 non-null  bool  \n",
      " 4   retention_7     90189 non-null  bool  \n",
      "dtypes: bool(2), int64(2), object(1)\n",
      "memory usage: 2.2+ MB\n"
     ]
    }
   ],
   "source": [
    "df.info()"
   ]
  },
  {
   "cell_type": "code",
   "execution_count": 6,
   "id": "da556552-2eb5-4c6a-be39-78d91de220dd",
   "metadata": {},
   "outputs": [
    {
     "data": {
      "text/plain": [
       "userid            0\n",
       "version           0\n",
       "sum_gamerounds    0\n",
       "retention_1       0\n",
       "retention_7       0\n",
       "dtype: int64"
      ]
     },
     "execution_count": 6,
     "metadata": {},
     "output_type": "execute_result"
    }
   ],
   "source": [
    "df.isna().sum()"
   ]
  },
  {
   "cell_type": "code",
   "execution_count": 7,
   "id": "09413311-6118-4b3c-9c36-5e916805f72c",
   "metadata": {},
   "outputs": [
    {
     "data": {
      "text/plain": [
       "True"
      ]
     },
     "execution_count": 7,
     "metadata": {},
     "output_type": "execute_result"
    }
   ],
   "source": [
    "df['userid'].nunique() == df.shape[0]"
   ]
  },
  {
   "cell_type": "code",
   "execution_count": 8,
   "id": "85414e42-2423-47fc-b37d-ac8362930c31",
   "metadata": {},
   "outputs": [
    {
     "data": {
      "text/html": [
       "<div>\n",
       "<style scoped>\n",
       "    .dataframe tbody tr th:only-of-type {\n",
       "        vertical-align: middle;\n",
       "    }\n",
       "\n",
       "    .dataframe tbody tr th {\n",
       "        vertical-align: top;\n",
       "    }\n",
       "\n",
       "    .dataframe thead th {\n",
       "        text-align: right;\n",
       "    }\n",
       "</style>\n",
       "<table border=\"1\" class=\"dataframe\">\n",
       "  <thead>\n",
       "    <tr style=\"text-align: right;\">\n",
       "      <th></th>\n",
       "      <th>userid</th>\n",
       "    </tr>\n",
       "    <tr>\n",
       "      <th>version</th>\n",
       "      <th></th>\n",
       "    </tr>\n",
       "  </thead>\n",
       "  <tbody>\n",
       "    <tr>\n",
       "      <th>gate_30</th>\n",
       "      <td>44700</td>\n",
       "    </tr>\n",
       "    <tr>\n",
       "      <th>gate_40</th>\n",
       "      <td>45489</td>\n",
       "    </tr>\n",
       "  </tbody>\n",
       "</table>\n",
       "</div>"
      ],
      "text/plain": [
       "         userid\n",
       "version        \n",
       "gate_30   44700\n",
       "gate_40   45489"
      ]
     },
     "execution_count": 8,
     "metadata": {},
     "output_type": "execute_result"
    }
   ],
   "source": [
    "df.pivot_table(index='version', aggfunc={'userid':'count'})"
   ]
  },
  {
   "cell_type": "markdown",
   "id": "e689dd33-d4e9-4197-8aaf-cca8b5604cc6",
   "metadata": {},
   "source": [
    "The data is consistent with what was outlined in the data dictionary. There are no null values, and all features appear to be in the correct data type. In addition, all users are unique, and there are roughly the same amount of users in each game version."
   ]
  },
  {
   "cell_type": "code",
   "execution_count": 9,
   "id": "90b7fd70-d24d-48aa-9202-80eaaeb4b9c5",
   "metadata": {},
   "outputs": [
    {
     "data": {
      "text/html": [
       "<div>\n",
       "<style scoped>\n",
       "    .dataframe tbody tr th:only-of-type {\n",
       "        vertical-align: middle;\n",
       "    }\n",
       "\n",
       "    .dataframe tbody tr th {\n",
       "        vertical-align: top;\n",
       "    }\n",
       "\n",
       "    .dataframe thead th {\n",
       "        text-align: right;\n",
       "    }\n",
       "</style>\n",
       "<table border=\"1\" class=\"dataframe\">\n",
       "  <thead>\n",
       "    <tr style=\"text-align: right;\">\n",
       "      <th></th>\n",
       "      <th>userid</th>\n",
       "      <th>version</th>\n",
       "      <th>sum_gamerounds</th>\n",
       "      <th>retention_1</th>\n",
       "      <th>retention_7</th>\n",
       "    </tr>\n",
       "  </thead>\n",
       "  <tbody>\n",
       "    <tr>\n",
       "      <th>10</th>\n",
       "      <td>1842</td>\n",
       "      <td>gate_40</td>\n",
       "      <td>3</td>\n",
       "      <td>False</td>\n",
       "      <td>True</td>\n",
       "    </tr>\n",
       "    <tr>\n",
       "      <th>23</th>\n",
       "      <td>2729</td>\n",
       "      <td>gate_30</td>\n",
       "      <td>105</td>\n",
       "      <td>False</td>\n",
       "      <td>True</td>\n",
       "    </tr>\n",
       "    <tr>\n",
       "      <th>90</th>\n",
       "      <td>8788</td>\n",
       "      <td>gate_30</td>\n",
       "      <td>19</td>\n",
       "      <td>False</td>\n",
       "      <td>True</td>\n",
       "    </tr>\n",
       "    <tr>\n",
       "      <th>102</th>\n",
       "      <td>10200</td>\n",
       "      <td>gate_40</td>\n",
       "      <td>106</td>\n",
       "      <td>False</td>\n",
       "      <td>True</td>\n",
       "    </tr>\n",
       "    <tr>\n",
       "      <th>143</th>\n",
       "      <td>13429</td>\n",
       "      <td>gate_30</td>\n",
       "      <td>60</td>\n",
       "      <td>False</td>\n",
       "      <td>True</td>\n",
       "    </tr>\n",
       "    <tr>\n",
       "      <th>...</th>\n",
       "      <td>...</td>\n",
       "      <td>...</td>\n",
       "      <td>...</td>\n",
       "      <td>...</td>\n",
       "      <td>...</td>\n",
       "    </tr>\n",
       "    <tr>\n",
       "      <th>89967</th>\n",
       "      <td>9975174</td>\n",
       "      <td>gate_30</td>\n",
       "      <td>26</td>\n",
       "      <td>False</td>\n",
       "      <td>True</td>\n",
       "    </tr>\n",
       "    <tr>\n",
       "      <th>90044</th>\n",
       "      <td>9982773</td>\n",
       "      <td>gate_30</td>\n",
       "      <td>1</td>\n",
       "      <td>False</td>\n",
       "      <td>True</td>\n",
       "    </tr>\n",
       "    <tr>\n",
       "      <th>90046</th>\n",
       "      <td>9983040</td>\n",
       "      <td>gate_30</td>\n",
       "      <td>137</td>\n",
       "      <td>False</td>\n",
       "      <td>True</td>\n",
       "    </tr>\n",
       "    <tr>\n",
       "      <th>90156</th>\n",
       "      <td>9996093</td>\n",
       "      <td>gate_40</td>\n",
       "      <td>23</td>\n",
       "      <td>False</td>\n",
       "      <td>True</td>\n",
       "    </tr>\n",
       "    <tr>\n",
       "      <th>90165</th>\n",
       "      <td>9996935</td>\n",
       "      <td>gate_30</td>\n",
       "      <td>35</td>\n",
       "      <td>False</td>\n",
       "      <td>True</td>\n",
       "    </tr>\n",
       "  </tbody>\n",
       "</table>\n",
       "<p>3599 rows × 5 columns</p>\n",
       "</div>"
      ],
      "text/plain": [
       "        userid  version  sum_gamerounds  retention_1  retention_7\n",
       "10        1842  gate_40               3        False         True\n",
       "23        2729  gate_30             105        False         True\n",
       "90        8788  gate_30              19        False         True\n",
       "102      10200  gate_40             106        False         True\n",
       "143      13429  gate_30              60        False         True\n",
       "...        ...      ...             ...          ...          ...\n",
       "89967  9975174  gate_30              26        False         True\n",
       "90044  9982773  gate_30               1        False         True\n",
       "90046  9983040  gate_30             137        False         True\n",
       "90156  9996093  gate_40              23        False         True\n",
       "90165  9996935  gate_30              35        False         True\n",
       "\n",
       "[3599 rows x 5 columns]"
      ]
     },
     "execution_count": 9,
     "metadata": {},
     "output_type": "execute_result"
    }
   ],
   "source": [
    "discrepancies = df[(df['retention_1'] == False) & (df['retention_7'] == True)]\n",
    "discrepancies"
   ]
  },
  {
   "cell_type": "code",
   "execution_count": 10,
   "id": "eac85d45-6164-4c1b-bde3-211d2f47d148",
   "metadata": {},
   "outputs": [
    {
     "data": {
      "text/html": [
       "<div>\n",
       "<style scoped>\n",
       "    .dataframe tbody tr th:only-of-type {\n",
       "        vertical-align: middle;\n",
       "    }\n",
       "\n",
       "    .dataframe tbody tr th {\n",
       "        vertical-align: top;\n",
       "    }\n",
       "\n",
       "    .dataframe thead th {\n",
       "        text-align: right;\n",
       "    }\n",
       "</style>\n",
       "<table border=\"1\" class=\"dataframe\">\n",
       "  <thead>\n",
       "    <tr style=\"text-align: right;\">\n",
       "      <th></th>\n",
       "      <th>userid</th>\n",
       "    </tr>\n",
       "    <tr>\n",
       "      <th>version</th>\n",
       "      <th></th>\n",
       "    </tr>\n",
       "  </thead>\n",
       "  <tbody>\n",
       "    <tr>\n",
       "      <th>gate_30</th>\n",
       "      <td>1826</td>\n",
       "    </tr>\n",
       "    <tr>\n",
       "      <th>gate_40</th>\n",
       "      <td>1773</td>\n",
       "    </tr>\n",
       "  </tbody>\n",
       "</table>\n",
       "</div>"
      ],
      "text/plain": [
       "         userid\n",
       "version        \n",
       "gate_30    1826\n",
       "gate_40    1773"
      ]
     },
     "execution_count": 10,
     "metadata": {},
     "output_type": "execute_result"
    }
   ],
   "source": [
    "discrepancies.pivot_table(index='version', aggfunc={'userid':'count'}) "
   ]
  },
  {
   "cell_type": "code",
   "execution_count": 11,
   "id": "38cd6082-243d-4c80-b6a6-4c5faedd19b4",
   "metadata": {},
   "outputs": [],
   "source": [
    "df.drop(index=discrepancies.index, axis=0, inplace=True)"
   ]
  },
  {
   "cell_type": "code",
   "execution_count": 12,
   "id": "93324917-35ab-4160-ba9e-958a59df9363",
   "metadata": {},
   "outputs": [
    {
     "data": {
      "text/plain": [
       "(86590, 5)"
      ]
     },
     "execution_count": 12,
     "metadata": {},
     "output_type": "execute_result"
    }
   ],
   "source": [
    "df.shape"
   ]
  },
  {
   "cell_type": "markdown",
   "id": "68814123-d2ae-41a9-b147-44b78c80938f",
   "metadata": {},
   "source": [
    "There are some discrepancies in the data; logically, it's impossible not to return after the first day and return after the seventh. This discrepancy only accounts for roughly 4% of the data and is roughly the same in both versions. Therefore, I will discard these samples. The resulting data frame consists of 86590 samples.\n",
    "\n",
    "## Exploratory Data Analysis\n",
    "### Game Rounds Played"
   ]
  },
  {
   "cell_type": "code",
   "execution_count": 13,
   "id": "f7210cf9-89b7-4b5b-b39e-e6fc8aeb4f3f",
   "metadata": {},
   "outputs": [
    {
     "data": {
      "text/plain": [
       "count    86590.000000\n",
       "mean        50.369546\n",
       "std        102.924378\n",
       "min          0.000000\n",
       "25%          5.000000\n",
       "50%         16.000000\n",
       "75%         49.000000\n",
       "max       2961.000000\n",
       "Name: sum_gamerounds, dtype: float64"
      ]
     },
     "execution_count": 13,
     "metadata": {},
     "output_type": "execute_result"
    }
   ],
   "source": [
    "df['sum_gamerounds'].describe()"
   ]
  },
  {
   "cell_type": "code",
   "execution_count": 14,
   "id": "e2c9c546-2897-419f-a7a0-0dcaa8a2d83a",
   "metadata": {},
   "outputs": [
    {
     "data": {
      "image/png": "[encoded data removed]",
      "text/plain": [
       "<Figure size 432x288 with 1 Axes>"
      ]
     },
     "metadata": {
      "needs_background": "light"
     },
     "output_type": "display_data"
    }
   ],
   "source": [
    "plt.boxplot(df['sum_gamerounds'])\n",
    "plt.show()"
   ]
  },
  {
   "cell_type": "code",
   "execution_count": 15,
   "id": "3deff91b-0d4f-42a0-879d-817c53d95ae1",
   "metadata": {},
   "outputs": [
    {
     "data": {
      "text/plain": [
       "11547"
      ]
     },
     "execution_count": 15,
     "metadata": {},
     "output_type": "execute_result"
    }
   ],
   "source": [
    "df[df['sum_gamerounds'] > 100].shape[0]"
   ]
  },
  {
   "cell_type": "markdown",
   "id": "36cf0dd1-ff61-4d08-b781-dabbc6ea05fb",
   "metadata": {},
   "source": [
    "There are around 15% of players that progressed beyond 100 rounds. They skew the data and make it challenging to visualize the distribution for the majority of the players. Therefore, I will remove them from the analysis."
   ]
  },
  {
   "cell_type": "code",
   "execution_count": 16,
   "id": "6cb7b3c0-dc11-41fa-a823-c55ed0cb8a4d",
   "metadata": {},
   "outputs": [],
   "source": [
    "clean_df = df.drop(df[df['sum_gamerounds'] > 100].index, axis=0).copy()\n",
    "\n",
    "df_g30 = clean_df[clean_df['version'] == 'gate_30']\n",
    "df_g40 = clean_df[clean_df['version'] == 'gate_40']"
   ]
  },
  {
   "cell_type": "code",
   "execution_count": 17,
   "id": "42d1454a-dd53-498d-965c-9fe8389406f4",
   "metadata": {},
   "outputs": [],
   "source": [
    "def ecdf(column):\n",
    "    x = sorted(column)\n",
    "    y = np.arange(1, len(column) + 1) / len(column)\n",
    "    return x, y"
   ]
  },
  {
   "cell_type": "code",
   "execution_count": 18,
   "id": "c066f354-37ef-42bf-bacb-be8c3b390984",
   "metadata": {},
   "outputs": [
    {
     "data": {
      "image/png": "[encoded data removed]",
      "text/plain": [
       "<Figure size 1152x864 with 4 Axes>"
      ]
     },
     "metadata": {
      "needs_background": "light"
     },
     "output_type": "display_data"
    }
   ],
   "source": [
    "fig, ax = plt.subplots(2, 2, figsize=(16,12))\n",
    "\n",
    "# Histogram\n",
    "ax[0,0].hist(clean_df['sum_gamerounds'], bins=20)\n",
    "ax[0,0].set(title='Overall Distribution of Game Rounds', xlabel='Rounds Played', ylabel='Count')\n",
    "\n",
    "# Density plots\n",
    "df_g30['sum_gamerounds'].plot(kind='kde', color='red', label='gate_30', ax=ax[0,1])\n",
    "df_g40['sum_gamerounds'].plot(kind='kde', color='blue', label='gate_40', ax=ax[0,1])\n",
    "ax[0,1].grid()\n",
    "ax[0,1].legend()\n",
    "ax[0,1].set(title='Density Plot Comparison of Game Versions', xlim=(0,100),\n",
    "           xlabel='Rounds Played')\n",
    "\n",
    "# ECDF of total Rounds played\n",
    "x, y = ecdf(clean_df['sum_gamerounds'])\n",
    "\n",
    "ax[1,0].plot(x, y, marker='.', linestyle=None)\n",
    "ax[1,0].grid()\n",
    "ax[1,0].set(title='ECDF of Rounds Played', xlabel='Rounds Played', ylabel='ECDF')\n",
    "\n",
    "\n",
    "# ECDF grouped by gates\n",
    "x30, y30 = ecdf(df_g30['sum_gamerounds'])\n",
    "x40, y40 = ecdf(df_g40['sum_gamerounds'])\n",
    "\n",
    "ax[1,1].plot(x30, y30, marker='.', linestyle=None, color='red', label='gate_30')\n",
    "ax[1,1].plot(x40, y40, marker='.', linestyle=None, color='blue', label='gate_40')\n",
    "ax[1,1].grid()\n",
    "ax[1,1].legend()\n",
    "ax[1,1].set(title='ECDF Comparison of Game Version', xlabel='Rounds Played', ylabel='ECDF')\n",
    "\n",
    "plt.show()"
   ]
  },
  {
   "cell_type": "code",
   "execution_count": 19,
   "id": "4a67fed9-08a1-470c-a318-522eeb674f51",
   "metadata": {},
   "outputs": [
    {
     "name": "stdout",
     "output_type": "stream",
     "text": [
      "Percentage of players in gate 30 version past round 30:  26.36 \n",
      "Percentage of players in gate 40 version past round 30:  25.46 \n",
      "Difference of   0.9\n"
     ]
    }
   ],
   "source": [
    "g30_over30 = round((df_g30[df_g30['sum_gamerounds'] >= 30].shape[0]) / len(df_g30) * 100, 2)\n",
    "g40_over30 = round((df_g40[df_g40['sum_gamerounds'] >= 30].shape[0]) / len(df_g40) * 100, 2)\n",
    "\n",
    "print('Percentage of players in gate 30 version past round 30: ', g30_over30, '\\n'\n",
    "     'Percentage of players in gate 40 version past round 30: ', g40_over30, '\\n'\n",
    "     'Difference of  ', round(g30_over30 - g40_over30,2))"
   ]
  },
  {
   "cell_type": "code",
   "execution_count": 20,
   "id": "ed47aa23-e53b-4b65-8bd7-409cc6c0f0e2",
   "metadata": {},
   "outputs": [
    {
     "name": "stdout",
     "output_type": "stream",
     "text": [
      "Percentage of players in gate 30 version past round 40:  18.56 \n",
      "Percentage of players in gate 40 version past round 40:  18.5 \n",
      "Difference of   0.06\n"
     ]
    }
   ],
   "source": [
    "g30_over40 = round((df_g30[df_g30['sum_gamerounds'] >= 40].shape[0]) / len(df_g30) * 100, 2)\n",
    "g40_over40 = round((df_g40[df_g40['sum_gamerounds'] >= 40].shape[0]) / len(df_g40) * 100, 2)\n",
    "\n",
    "print('Percentage of players in gate 30 version past round 40: ', g30_over40, '\\n'\n",
    "     'Percentage of players in gate 40 version past round 40: ', g40_over40, '\\n'\n",
    "     'Difference of  ', round(g30_over40 - g40_over40, 2))"
   ]
  },
  {
   "cell_type": "markdown",
   "id": "c8a05409-d4d9-42e2-88dd-a625c416a564",
   "metadata": {},
   "source": [
    "The visualization shows that around 80% of the players have stopped playing by level 40. When comparing the two gates, the gate 30 version has a higher proportion of players who played past the first few rounds. Then, the two versions have a similar distribution until round 30, where the distribution separates. The Gate 30 version has 0.9% more players that made it past round 30. When comparing the proportion of players that made it past gate 40, the two version are very similar, only a 0.06% difference."
   ]
  },
  {
   "cell_type": "markdown",
   "id": "ef718b3a-dfe1-4e83-83b6-127d151995fd",
   "metadata": {},
   "source": [
    "### Retention Rates"
   ]
  },
  {
   "cell_type": "code",
   "execution_count": 124,
   "id": "0c713e79-4143-449c-8438-c132dc203f77",
   "metadata": {},
   "outputs": [
    {
     "name": "stdout",
     "output_type": "stream",
     "text": [
      "One day retention rate:  39.0 \n",
      "Seven days retention rate:  7.000000000000001\n"
     ]
    }
   ],
   "source": [
    "print('One day retention rate: ', round(clean_df['retention_1'].mean(),2)*100, '\\n'\n",
    "      'Seven days retention rate: ', round(clean_df['retention_7'].mean(), 2)*100)"
   ]
  },
  {
   "cell_type": "code",
   "execution_count": 21,
   "id": "3f4750f7-18a7-44d8-b28c-6eded82bf2ca",
   "metadata": {},
   "outputs": [
    {
     "name": "stdout",
     "output_type": "stream",
     "text": [
      "Percentage of players in gate 30 version that came back after the 1st day:  39.09 \n",
      "Percentage of players in gate 40 version that came back after the 1st day:  38.23 \n",
      "Difference of   0.86\n"
     ]
    }
   ],
   "source": [
    "g30_r1 = round(df_g30['retention_1'].mean() * 100, 2)\n",
    "g40_r1 = round(df_g40['retention_1'].mean() * 100, 2)\n",
    "\n",
    "print('Percentage of players in gate 30 version that came back after the 1st day: ', g30_r1, '\\n'\n",
    "     'Percentage of players in gate 40 version that came back after the 1st day: ', g40_r1, '\\n'\n",
    "     'Difference of  ', round(g30_r1 - g40_r1,2))"
   ]
  },
  {
   "cell_type": "code",
   "execution_count": 22,
   "id": "65035940-b0a6-4c22-b2a5-64954eef4989",
   "metadata": {},
   "outputs": [
    {
     "name": "stdout",
     "output_type": "stream",
     "text": [
      "Percentage of players in gate 30 version that came back after the 7th day:  7.34 \n",
      "Percentage of players in gate 40 version that came back after the 7th day:  6.49 \n",
      "Difference of   0.85\n"
     ]
    }
   ],
   "source": [
    "g30_r7 = round(df_g30['retention_7'].mean() * 100, 2)\n",
    "g40_r7 = round(df_g40['retention_7'].mean() * 100, 2)\n",
    "\n",
    "print('Percentage of players in gate 30 version that came back after the 7th day: ', g30_r7, '\\n'\n",
    "     'Percentage of players in gate 40 version that came back after the 7th day: ', g40_r7, '\\n'\n",
    "     'Difference of  ', round(g30_r7 - g40_r7, 2))"
   ]
  },
  {
   "cell_type": "markdown",
   "id": "76129c29-4391-48f0-9eb0-b5b6ac96f3db",
   "metadata": {},
   "source": [
    "When comparing the overall retention rates between the two groups, the gate30 version is roughly 0.85% higher in both metrics. The gate_30 version seems to perform better in every comparison so far. Next, I will conduct an A/B test to see if these differences are statistically significant."
   ]
  },
  {
   "cell_type": "markdown",
   "id": "0c7ffd01-1289-405c-866e-9b9d77a40cbb",
   "metadata": {},
   "source": [
    "# A/B Test\n",
    "\n",
    "I will use two different A/B testing methods to determine if the two different versions are statistically significant. \n",
    "\n",
    "### Hypothesis Test\n",
    "\n",
    "- Define testing parameters\n",
    "- Determine if the samples meet the normal condition\n",
    "- Calculate confidence interval\n",
    "- Calculate P-Value\n",
    "- Determine if $H_0$ can be rejected\n",
    "\n",
    "#### Testing Parameters\n",
    "\n",
    "- Control = Version Gate_30\n",
    "- Treatment = Version Gate_40\n",
    "\n",
    "$H_0$: $p_c$ = $p_t$\n",
    "\n",
    "$H_a$: $p_c$ $\\neq$ $p_t$\n",
    "\n",
    "$alpha$ = 0.05\n"
   ]
  },
  {
   "cell_type": "code",
   "execution_count": 47,
   "id": "96e55ce8-ab91-44e4-9bc5-49504f3fcfe7",
   "metadata": {},
   "outputs": [],
   "source": [
    "def cohend(array1, array2):\n",
    "    # calculate cohen D effect size\n",
    "    m1 = array1.mean()\n",
    "    m2 = array2.mean()\n",
    "    pooled_sd = np.sqrt((array1.std()**2 + array2.std()**2)/2)\n",
    "    return (m1-m2) / pooled_sd"
   ]
  },
  {
   "cell_type": "code",
   "execution_count": 112,
   "id": "d518a9df-dcd2-4fed-92bc-a0160b1c5a9b",
   "metadata": {},
   "outputs": [],
   "source": [
    "def ab_test(obs1, obs2, alpha, alternative='two-sided'):\n",
    "    \"\"\"\n",
    "    Calculate normality, P-Value, Effect size and Statistical Power between\n",
    "    the two group of observations.\n",
    "    \n",
    "    Args:\n",
    "        obs1(numerical, array) = observation of first group\n",
    "        obs2(numerical, array) = observation of second group\n",
    "        alpha(numerical) = Threshold of Type 1 Error\n",
    "        alternative(two-sided, less, greater) = Method of comparison between obs1 and obs2, default is two-sided\n",
    "        \n",
    "    Return:\n",
    "        String with results of normality, p-value, effect size and statistical power.\n",
    "    \"\"\"\n",
    "    \n",
    "    from scipy import stats\n",
    "    from statsmodels.stats import power as pwr\n",
    "    # if samplesize is less than 30 then the normality of distribution have to be checked\n",
    "    normal = True\n",
    "    if len(obs1) < 30 or len(obs2) < 30:\n",
    "        # check both distribution for normality with shapiro test\n",
    "        norm1 = stats.shapiro(obs1)[1]\n",
    "        norm2 = stats.shapiro(obs2)[1]\n",
    "        \n",
    "        if norm1 < alpha or norm2 < alpha:\n",
    "            normal = False\n",
    "            \n",
    "    # Use T-Test if the distributions are normal else use mann-whitney non-parametric test\n",
    "    if normal:\n",
    "        pvalue = stats.ttest_ind(obs1, obs2, alternative=alternative)\n",
    "    else:\n",
    "        pvalue = stats.ranksums(obs1, obs2, alternative=alternative)\n",
    "    \n",
    "    # calculate statistical power\n",
    "    analysis = pwr.TTestIndPower()\n",
    "    effect_size = cohend(obs1, obs2)\n",
    "    ratio = len(obs1) / len(obs2)\n",
    "    power = analysis.solve_power(alpha=alpha, effect_size=effect_size, ratio=ratio, nobs1=len(obs1))\n",
    "    \n",
    "        \n",
    "    print('A/B Test Results:')\n",
    "    print('--------------------')\n",
    "    print('Averages - Group 1: ', round(obs1.mean(), 2), ' Group 2: ', round(obs2.mean(),2))\n",
    "    print('--------------------')\n",
    "    print('Normality of Distribution: ', normal)\n",
    "    print('--------------------')\n",
    "    print('P-Value: ', round(pvalue[1], 2))\n",
    "    print('--------------------')\n",
    "    print('Effect Size: ', round(effect_size, 2))\n",
    "    print('--------------------')\n",
    "    print('Statistical Power: ', round(power,2))"
   ]
  },
  {
   "cell_type": "markdown",
   "id": "d572451f-5b02-4c12-b0d2-20de10878b63",
   "metadata": {},
   "source": [
    "## One-day Retention"
   ]
  },
  {
   "cell_type": "code",
   "execution_count": 67,
   "id": "7730970c-26a8-4217-ad86-236bf73d4c64",
   "metadata": {},
   "outputs": [
    {
     "name": "stdout",
     "output_type": "stream",
     "text": [
      "A/B Test Results:\n",
      "--------------------\n",
      "Retention Rates - Group 1:  0.39  Group 2:  0.38\n",
      "--------------------\n",
      "Normality of Distribution:  True\n",
      "--------------------\n",
      "P-Value:  0.01\n",
      "--------------------\n",
      "Effect Size:  0.02\n",
      "--------------------\n",
      "Statistical Power:  0.68\n"
     ]
    }
   ],
   "source": [
    "ab_test(df_g30['retention_1'], df_g40['retention_1'], alpha=alpha)"
   ]
  },
  {
   "cell_type": "markdown",
   "id": "693f62c8-7ae7-4e1a-8e25-3aaef53e7323",
   "metadata": {},
   "source": [
    "## Seven-day Retention"
   ]
  },
  {
   "cell_type": "code",
   "execution_count": 68,
   "id": "c0ad1fb1-9e6a-4370-98d8-b7cf7be58f4c",
   "metadata": {},
   "outputs": [
    {
     "name": "stdout",
     "output_type": "stream",
     "text": [
      "A/B Test Results:\n",
      "--------------------\n",
      "Retention Rates - Group 1:  0.07  Group 2:  0.06\n",
      "--------------------\n",
      "Normality of Distribution:  True\n",
      "--------------------\n",
      "P-Value:  0.0\n",
      "--------------------\n",
      "Effect Size:  0.03\n",
      "--------------------\n",
      "Statistical Power:  1.0\n"
     ]
    }
   ],
   "source": [
    "ab_test(df_g30['retention_7'], df_g40['retention_7'], alpha=alpha)"
   ]
  },
  {
   "cell_type": "markdown",
   "id": "57b1ca4b-f64b-48b7-bcb1-751ddefe9b38",
   "metadata": {},
   "source": [
    "The AB test for both retention metrics returned a p-value less than the alpha, thus rejecting the null hypothesis. This result signifies statistically significant differences between the retention rates of the two groups. There is a 2% difference between the groups for the one-day retention metric. In the case of the seven-day retention metric, there is a 3% difference. \n",
    "\n",
    "There is a significant difference when comparing the statistical power between the two tests. The test for the one-day metric resulted in a statistical power of 0.68, lower than the industry standard of 0.8. However, the statistical power for the seven-day metric is 1, signifying no chance of making a Type-2 error.\n",
    "\n",
    "## Game Rounds"
   ]
  },
  {
   "cell_type": "code",
   "execution_count": 115,
   "id": "922c8461-b3c5-4e17-b593-0e9494aab3b9",
   "metadata": {},
   "outputs": [
    {
     "name": "stdout",
     "output_type": "stream",
     "text": [
      "A/B Test Results:\n",
      "--------------------\n",
      "Averages - Group 1:  21.07  Group 2:  20.9\n",
      "--------------------\n",
      "Normality of Distribution:  True\n",
      "--------------------\n",
      "P-Value:  0.32\n",
      "--------------------\n",
      "Effect Size:  0.01\n",
      "--------------------\n",
      "Statistical Power:  0.17\n"
     ]
    }
   ],
   "source": [
    "ab_test(df_g30['sum_gamerounds'], df_g40['sum_gamerounds'], alpha=alpha)"
   ]
  },
  {
   "cell_type": "markdown",
   "id": "985436c1-afba-4034-8d31-4852a5cd7628",
   "metadata": {},
   "source": [
    "When comparing the rounds played for the game, the AB test resulted in a p-value of 0.32, thus unable to reject the null hypothesis. This result shows that there isn't a significant difference between the two versions. "
   ]
  },
  {
   "cell_type": "markdown",
   "id": "baa4de37-a4b2-417e-9bdf-025cd435c360",
   "metadata": {},
   "source": [
    "## Results Summary\n",
    "\n",
    "Statistics for players with less than 100 rounds played\n",
    "- Overall retention rate - one-day: 39%, seven-day: 7%.\n",
    "\n",
    "One day Retention Rates\n",
    "- Gate30: 39%, Gate40: 38%.\n",
    "- Statiscally significant different with statistical power of 0.68.\n",
    "\n",
    "Seven day Retention Rate\n",
    "- Gate30: 7%, Gate40: 6%.\n",
    "- Statiscally significant different with statistical power of 1.\n",
    "\n",
    "Rounds Played\n",
    "- Percentage of players past round 30 - Gate30: 26.36%, Gate40: 25.46%.\n",
    "- Percentage of players past round 40 - Gate30: 18.56%, gate40: 18.5%.\n",
    "\n",
    "## Recommendation\n",
    "\n",
    "The gate 30 version showed higher retention rate in both one-day and seven-day metrics. The AB test also showed that this difference is statistically significant. Therefore, I recommend implementing the gate 30 version going forward."
   ]
  }
 ],
 "metadata": {
  "kernelspec": {
   "display_name": "Python 3",
   "language": "python",
   "name": "python3"
  },
  "language_info": {
   "codemirror_mode": {
    "name": "ipython",
    "version": 3
   },
   "file_extension": ".py",
   "mimetype": "text/x-python",
   "name": "python",
   "nbconvert_exporter": "python",
   "pygments_lexer": "ipython3",
   "version": "3.8.8"
  }
 },
 "nbformat": 4,
 "nbformat_minor": 5
}
