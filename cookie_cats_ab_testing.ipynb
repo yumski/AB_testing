{
 "cells": [
  {
   "cell_type": "code",
   "execution_count": 1,
   "id": "d9ebfdd0-1c3b-49be-a70c-d7445e206a3b",
   "metadata": {},
   "outputs": [],
   "source": [
    "import pandas as pd\n",
    "import numpy as np\n",
    "\n",
    "import matplotlib.pyplot as plt\n",
    "%matplotlib inline"
   ]
  },
  {
   "cell_type": "markdown",
   "id": "06a736ec-dfc9-4568-b59a-7649f64b4949",
   "metadata": {},
   "source": [
    "# Player Retention A/B Testing\n",
    "\n",
    "## Project Overview:\n",
    "\n",
    "This project is based on and uses data from the DataCamp project [A/B Testing with Cookie Cat](https://projects.datacamp.com/projects/184). \n",
    "\n",
    "### Excerpt from the DataCamp Description of the Game\n",
    "Cookie Cats is a hugely popular mobile puzzle game developed by Tactile Entertainment. It's a classic \"connect three\"-style puzzle game where the player must connect tiles of the same color to clear the board and win the level. It also features singing cats. \n",
    "\n",
    "As players progress through the game levels, they will occasionally encounter gates that force them to wait a non-trivial amount of time or make an in-app purchase to progress. In addition to driving in-app purchases, these gates serve the critical purpose of giving players an enforced break from playing the game, hopefully resulting in the player's enjoyment of the game being increased and prolonged.\n",
    "\n",
    "### Project Goal\n",
    "\n",
    "This project aims to find if there is a statistically significant difference in the percentage of player retention by setting the gate at level 30 or 40. I will examine the one-day and seven-day retention rates using two different types of A/B testing techniques. \n",
    "\n",
    "### Data Dictionary\n",
    "\n",
    "The data is from 90,189 players that installed the game while the AB-test was running. The variables are:\n",
    "\n",
    "- userid - a unique number that identifies each player.\n",
    "- version - whether the player was put in the control group (gate_30 - a gate at level 30) or the group with the moved gate (gate_40 - a gate at level 40).\n",
    "- sum_gamerounds - the number of game rounds played by the player during the first 14 days after install.\n",
    "- retention_1 - did the player come back and play 1 day after installing?\n",
    "- retention_7 - did the player come back and play 7 days after installing?\n",
    "\n",
    "## Data Loading and Cleaning"
   ]
  },
  {
   "cell_type": "code",
   "execution_count": 2,
   "id": "af7ca04e-1868-446d-bebd-82b8db11a8fb",
   "metadata": {},
   "outputs": [],
   "source": [
    "df = pd.read_csv('cookie_cats.csv')"
   ]
  },
  {
   "cell_type": "code",
   "execution_count": 3,
   "id": "b2f097ab-4188-4aab-ae93-bb19ae4195a0",
   "metadata": {},
   "outputs": [
    {
     "data": {
      "text/plain": [
       "(90189, 5)"
      ]
     },
     "execution_count": 3,
     "metadata": {},
     "output_type": "execute_result"
    }
   ],
   "source": [
    "df.shape"
   ]
  },
  {
   "cell_type": "code",
   "execution_count": 4,
   "id": "44d219e1-efcd-4ec1-8df7-cb331ec34c53",
   "metadata": {},
   "outputs": [
    {
     "data": {
      "text/html": [
       "<div>\n",
       "<style scoped>\n",
       "    .dataframe tbody tr th:only-of-type {\n",
       "        vertical-align: middle;\n",
       "    }\n",
       "\n",
       "    .dataframe tbody tr th {\n",
       "        vertical-align: top;\n",
       "    }\n",
       "\n",
       "    .dataframe thead th {\n",
       "        text-align: right;\n",
       "    }\n",
       "</style>\n",
       "<table border=\"1\" class=\"dataframe\">\n",
       "  <thead>\n",
       "    <tr style=\"text-align: right;\">\n",
       "      <th></th>\n",
       "      <th>userid</th>\n",
       "      <th>version</th>\n",
       "      <th>sum_gamerounds</th>\n",
       "      <th>retention_1</th>\n",
       "      <th>retention_7</th>\n",
       "    </tr>\n",
       "  </thead>\n",
       "  <tbody>\n",
       "    <tr>\n",
       "      <th>0</th>\n",
       "      <td>116</td>\n",
       "      <td>gate_30</td>\n",
       "      <td>3</td>\n",
       "      <td>False</td>\n",
       "      <td>False</td>\n",
       "    </tr>\n",
       "    <tr>\n",
       "      <th>1</th>\n",
       "      <td>337</td>\n",
       "      <td>gate_30</td>\n",
       "      <td>38</td>\n",
       "      <td>True</td>\n",
       "      <td>False</td>\n",
       "    </tr>\n",
       "    <tr>\n",
       "      <th>2</th>\n",
       "      <td>377</td>\n",
       "      <td>gate_40</td>\n",
       "      <td>165</td>\n",
       "      <td>True</td>\n",
       "      <td>False</td>\n",
       "    </tr>\n",
       "    <tr>\n",
       "      <th>3</th>\n",
       "      <td>483</td>\n",
       "      <td>gate_40</td>\n",
       "      <td>1</td>\n",
       "      <td>False</td>\n",
       "      <td>False</td>\n",
       "    </tr>\n",
       "    <tr>\n",
       "      <th>4</th>\n",
       "      <td>488</td>\n",
       "      <td>gate_40</td>\n",
       "      <td>179</td>\n",
       "      <td>True</td>\n",
       "      <td>True</td>\n",
       "    </tr>\n",
       "  </tbody>\n",
       "</table>\n",
       "</div>"
      ],
      "text/plain": [
       "   userid  version  sum_gamerounds  retention_1  retention_7\n",
       "0     116  gate_30               3        False        False\n",
       "1     337  gate_30              38         True        False\n",
       "2     377  gate_40             165         True        False\n",
       "3     483  gate_40               1        False        False\n",
       "4     488  gate_40             179         True         True"
      ]
     },
     "execution_count": 4,
     "metadata": {},
     "output_type": "execute_result"
    }
   ],
   "source": [
    "df.head()"
   ]
  },
  {
   "cell_type": "code",
   "execution_count": 5,
   "id": "15e1b30a-8537-47ca-a646-06846950a3f5",
   "metadata": {},
   "outputs": [
    {
     "name": "stdout",
     "output_type": "stream",
     "text": [
      "<class 'pandas.core.frame.DataFrame'>\n",
      "RangeIndex: 90189 entries, 0 to 90188\n",
      "Data columns (total 5 columns):\n",
      " #   Column          Non-Null Count  Dtype \n",
      "---  ------          --------------  ----- \n",
      " 0   userid          90189 non-null  int64 \n",
      " 1   version         90189 non-null  object\n",
      " 2   sum_gamerounds  90189 non-null  int64 \n",
      " 3   retention_1     90189 non-null  bool  \n",
      " 4   retention_7     90189 non-null  bool  \n",
      "dtypes: bool(2), int64(2), object(1)\n",
      "memory usage: 2.2+ MB\n"
     ]
    }
   ],
   "source": [
    "df.info()"
   ]
  },
  {
   "cell_type": "code",
   "execution_count": 6,
   "id": "da556552-2eb5-4c6a-be39-78d91de220dd",
   "metadata": {},
   "outputs": [
    {
     "data": {
      "text/plain": [
       "userid            0\n",
       "version           0\n",
       "sum_gamerounds    0\n",
       "retention_1       0\n",
       "retention_7       0\n",
       "dtype: int64"
      ]
     },
     "execution_count": 6,
     "metadata": {},
     "output_type": "execute_result"
    }
   ],
   "source": [
    "df.isna().sum()"
   ]
  },
  {
   "cell_type": "code",
   "execution_count": 7,
   "id": "09413311-6118-4b3c-9c36-5e916805f72c",
   "metadata": {},
   "outputs": [
    {
     "data": {
      "text/plain": [
       "True"
      ]
     },
     "execution_count": 7,
     "metadata": {},
     "output_type": "execute_result"
    }
   ],
   "source": [
    "df['userid'].nunique() == df.shape[0]"
   ]
  },
  {
   "cell_type": "code",
   "execution_count": 8,
   "id": "85414e42-2423-47fc-b37d-ac8362930c31",
   "metadata": {},
   "outputs": [
    {
     "data": {
      "text/html": [
       "<div>\n",
       "<style scoped>\n",
       "    .dataframe tbody tr th:only-of-type {\n",
       "        vertical-align: middle;\n",
       "    }\n",
       "\n",
       "    .dataframe tbody tr th {\n",
       "        vertical-align: top;\n",
       "    }\n",
       "\n",
       "    .dataframe thead th {\n",
       "        text-align: right;\n",
       "    }\n",
       "</style>\n",
       "<table border=\"1\" class=\"dataframe\">\n",
       "  <thead>\n",
       "    <tr style=\"text-align: right;\">\n",
       "      <th></th>\n",
       "      <th>userid</th>\n",
       "    </tr>\n",
       "    <tr>\n",
       "      <th>version</th>\n",
       "      <th></th>\n",
       "    </tr>\n",
       "  </thead>\n",
       "  <tbody>\n",
       "    <tr>\n",
       "      <th>gate_30</th>\n",
       "      <td>44700</td>\n",
       "    </tr>\n",
       "    <tr>\n",
       "      <th>gate_40</th>\n",
       "      <td>45489</td>\n",
       "    </tr>\n",
       "  </tbody>\n",
       "</table>\n",
       "</div>"
      ],
      "text/plain": [
       "         userid\n",
       "version        \n",
       "gate_30   44700\n",
       "gate_40   45489"
      ]
     },
     "execution_count": 8,
     "metadata": {},
     "output_type": "execute_result"
    }
   ],
   "source": [
    "df.pivot_table(index='version', aggfunc={'userid':'count'})"
   ]
  },
  {
   "cell_type": "markdown",
   "id": "e689dd33-d4e9-4197-8aaf-cca8b5604cc6",
   "metadata": {},
   "source": [
    "The data is consistent with what was outlined in the data dictionary. There are no null values, and all features appear to be in the correct data type. In addition, all users are unique, and there are roughly the same amount of users in each game version."
   ]
  },
  {
   "cell_type": "code",
   "execution_count": 9,
   "id": "90b7fd70-d24d-48aa-9202-80eaaeb4b9c5",
   "metadata": {},
   "outputs": [
    {
     "data": {
      "text/html": [
       "<div>\n",
       "<style scoped>\n",
       "    .dataframe tbody tr th:only-of-type {\n",
       "        vertical-align: middle;\n",
       "    }\n",
       "\n",
       "    .dataframe tbody tr th {\n",
       "        vertical-align: top;\n",
       "    }\n",
       "\n",
       "    .dataframe thead th {\n",
       "        text-align: right;\n",
       "    }\n",
       "</style>\n",
       "<table border=\"1\" class=\"dataframe\">\n",
       "  <thead>\n",
       "    <tr style=\"text-align: right;\">\n",
       "      <th></th>\n",
       "      <th>userid</th>\n",
       "      <th>version</th>\n",
       "      <th>sum_gamerounds</th>\n",
       "      <th>retention_1</th>\n",
       "      <th>retention_7</th>\n",
       "    </tr>\n",
       "  </thead>\n",
       "  <tbody>\n",
       "    <tr>\n",
       "      <th>10</th>\n",
       "      <td>1842</td>\n",
       "      <td>gate_40</td>\n",
       "      <td>3</td>\n",
       "      <td>False</td>\n",
       "      <td>True</td>\n",
       "    </tr>\n",
       "    <tr>\n",
       "      <th>23</th>\n",
       "      <td>2729</td>\n",
       "      <td>gate_30</td>\n",
       "      <td>105</td>\n",
       "      <td>False</td>\n",
       "      <td>True</td>\n",
       "    </tr>\n",
       "    <tr>\n",
       "      <th>90</th>\n",
       "      <td>8788</td>\n",
       "      <td>gate_30</td>\n",
       "      <td>19</td>\n",
       "      <td>False</td>\n",
       "      <td>True</td>\n",
       "    </tr>\n",
       "    <tr>\n",
       "      <th>102</th>\n",
       "      <td>10200</td>\n",
       "      <td>gate_40</td>\n",
       "      <td>106</td>\n",
       "      <td>False</td>\n",
       "      <td>True</td>\n",
       "    </tr>\n",
       "    <tr>\n",
       "      <th>143</th>\n",
       "      <td>13429</td>\n",
       "      <td>gate_30</td>\n",
       "      <td>60</td>\n",
       "      <td>False</td>\n",
       "      <td>True</td>\n",
       "    </tr>\n",
       "    <tr>\n",
       "      <th>...</th>\n",
       "      <td>...</td>\n",
       "      <td>...</td>\n",
       "      <td>...</td>\n",
       "      <td>...</td>\n",
       "      <td>...</td>\n",
       "    </tr>\n",
       "    <tr>\n",
       "      <th>89967</th>\n",
       "      <td>9975174</td>\n",
       "      <td>gate_30</td>\n",
       "      <td>26</td>\n",
       "      <td>False</td>\n",
       "      <td>True</td>\n",
       "    </tr>\n",
       "    <tr>\n",
       "      <th>90044</th>\n",
       "      <td>9982773</td>\n",
       "      <td>gate_30</td>\n",
       "      <td>1</td>\n",
       "      <td>False</td>\n",
       "      <td>True</td>\n",
       "    </tr>\n",
       "    <tr>\n",
       "      <th>90046</th>\n",
       "      <td>9983040</td>\n",
       "      <td>gate_30</td>\n",
       "      <td>137</td>\n",
       "      <td>False</td>\n",
       "      <td>True</td>\n",
       "    </tr>\n",
       "    <tr>\n",
       "      <th>90156</th>\n",
       "      <td>9996093</td>\n",
       "      <td>gate_40</td>\n",
       "      <td>23</td>\n",
       "      <td>False</td>\n",
       "      <td>True</td>\n",
       "    </tr>\n",
       "    <tr>\n",
       "      <th>90165</th>\n",
       "      <td>9996935</td>\n",
       "      <td>gate_30</td>\n",
       "      <td>35</td>\n",
       "      <td>False</td>\n",
       "      <td>True</td>\n",
       "    </tr>\n",
       "  </tbody>\n",
       "</table>\n",
       "<p>3599 rows × 5 columns</p>\n",
       "</div>"
      ],
      "text/plain": [
       "        userid  version  sum_gamerounds  retention_1  retention_7\n",
       "10        1842  gate_40               3        False         True\n",
       "23        2729  gate_30             105        False         True\n",
       "90        8788  gate_30              19        False         True\n",
       "102      10200  gate_40             106        False         True\n",
       "143      13429  gate_30              60        False         True\n",
       "...        ...      ...             ...          ...          ...\n",
       "89967  9975174  gate_30              26        False         True\n",
       "90044  9982773  gate_30               1        False         True\n",
       "90046  9983040  gate_30             137        False         True\n",
       "90156  9996093  gate_40              23        False         True\n",
       "90165  9996935  gate_30              35        False         True\n",
       "\n",
       "[3599 rows x 5 columns]"
      ]
     },
     "execution_count": 9,
     "metadata": {},
     "output_type": "execute_result"
    }
   ],
   "source": [
    "discrepancies = df[(df['retention_1'] == False) & (df['retention_7'] == True)]\n",
    "discrepancies"
   ]
  },
  {
   "cell_type": "code",
   "execution_count": 10,
   "id": "eac85d45-6164-4c1b-bde3-211d2f47d148",
   "metadata": {},
   "outputs": [
    {
     "data": {
      "text/html": [
       "<div>\n",
       "<style scoped>\n",
       "    .dataframe tbody tr th:only-of-type {\n",
       "        vertical-align: middle;\n",
       "    }\n",
       "\n",
       "    .dataframe tbody tr th {\n",
       "        vertical-align: top;\n",
       "    }\n",
       "\n",
       "    .dataframe thead th {\n",
       "        text-align: right;\n",
       "    }\n",
       "</style>\n",
       "<table border=\"1\" class=\"dataframe\">\n",
       "  <thead>\n",
       "    <tr style=\"text-align: right;\">\n",
       "      <th></th>\n",
       "      <th>userid</th>\n",
       "    </tr>\n",
       "    <tr>\n",
       "      <th>version</th>\n",
       "      <th></th>\n",
       "    </tr>\n",
       "  </thead>\n",
       "  <tbody>\n",
       "    <tr>\n",
       "      <th>gate_30</th>\n",
       "      <td>1826</td>\n",
       "    </tr>\n",
       "    <tr>\n",
       "      <th>gate_40</th>\n",
       "      <td>1773</td>\n",
       "    </tr>\n",
       "  </tbody>\n",
       "</table>\n",
       "</div>"
      ],
      "text/plain": [
       "         userid\n",
       "version        \n",
       "gate_30    1826\n",
       "gate_40    1773"
      ]
     },
     "execution_count": 10,
     "metadata": {},
     "output_type": "execute_result"
    }
   ],
   "source": [
    "discrepancies.pivot_table(index='version', aggfunc={'userid':'count'}) "
   ]
  },
  {
   "cell_type": "code",
   "execution_count": 11,
   "id": "38cd6082-243d-4c80-b6a6-4c5faedd19b4",
   "metadata": {},
   "outputs": [],
   "source": [
    "df.drop(index=discrepancies.index, axis=0, inplace=True)"
   ]
  },
  {
   "cell_type": "code",
   "execution_count": 12,
   "id": "93324917-35ab-4160-ba9e-958a59df9363",
   "metadata": {},
   "outputs": [
    {
     "data": {
      "text/plain": [
       "(86590, 5)"
      ]
     },
     "execution_count": 12,
     "metadata": {},
     "output_type": "execute_result"
    }
   ],
   "source": [
    "df.shape"
   ]
  },
  {
   "cell_type": "markdown",
   "id": "68814123-d2ae-41a9-b147-44b78c80938f",
   "metadata": {},
   "source": [
    "There are some discrepancies in the data; logically, it's impossible not to return after the first day and return after the seventh. This discrepancy only accounts for roughly 4% of the data and is roughly the same in both versions. Therefore, I will discard these samples. The resulting data frame consists of 86590 samples.\n",
    "\n",
    "## Exploratory Data Analysis\n",
    "\n",
    "### Game Rounds Played"
   ]
  },
  {
   "cell_type": "code",
   "execution_count": 13,
   "id": "8e45e6a9-8e1d-4ba2-a948-4b486b2a4f77",
   "metadata": {},
   "outputs": [],
   "source": [
    "def ecdf(col):\n",
    "    x = sorted(col)\n",
    "    y = np.arange(1, len(col)+1) / len(col)\n",
    "    return x, y"
   ]
  },
  {
   "cell_type": "code",
   "execution_count": 14,
   "id": "1cc7710d-b3c1-4a0d-a74f-0fb5fac599e7",
   "metadata": {},
   "outputs": [
    {
     "data": {
      "text/plain": [
       "count    86590.000000\n",
       "mean        50.369546\n",
       "std        102.924378\n",
       "min          0.000000\n",
       "25%          5.000000\n",
       "50%         16.000000\n",
       "75%         49.000000\n",
       "max       2961.000000\n",
       "Name: sum_gamerounds, dtype: float64"
      ]
     },
     "execution_count": 14,
     "metadata": {},
     "output_type": "execute_result"
    }
   ],
   "source": [
    "df['sum_gamerounds'].describe()"
   ]
  },
  {
   "cell_type": "code",
   "execution_count": 15,
   "id": "a3679cd5-6c9c-4129-b69d-b614d88bb2b9",
   "metadata": {},
   "outputs": [
    {
     "data": {
      "image/png": "[encoded data removed]",
      "text/plain": [
       "<Figure size 864x576 with 1 Axes>"
      ]
     },
     "metadata": {
      "needs_background": "light"
     },
     "output_type": "display_data"
    }
   ],
   "source": [
    "x, y = ecdf(df['sum_gamerounds'])\n",
    "\n",
    "fig, ax = plt.subplots(figsize=(12,8))\n",
    "plt.plot(x, y, marker='.', linestyle=None, alpha=0.75)\n",
    "plt.title(\"ECDF of Rounds Played\")\n",
    "plt.xlabel('Rounds Played')\n",
    "plt.ylabel('ECDF')\n",
    "plt.grid()\n",
    "plt.show()"
   ]
  },
  {
   "cell_type": "code",
   "execution_count": 16,
   "id": "bb9005e0-7fe8-40ac-bb76-bc0c0da2208a",
   "metadata": {},
   "outputs": [
    {
     "data": {
      "text/html": [
       "<div>\n",
       "<style scoped>\n",
       "    .dataframe tbody tr th:only-of-type {\n",
       "        vertical-align: middle;\n",
       "    }\n",
       "\n",
       "    .dataframe tbody tr th {\n",
       "        vertical-align: top;\n",
       "    }\n",
       "\n",
       "    .dataframe thead th {\n",
       "        text-align: right;\n",
       "    }\n",
       "</style>\n",
       "<table border=\"1\" class=\"dataframe\">\n",
       "  <thead>\n",
       "    <tr style=\"text-align: right;\">\n",
       "      <th></th>\n",
       "      <th>userid</th>\n",
       "      <th>retention_1</th>\n",
       "      <th>retention_7</th>\n",
       "    </tr>\n",
       "    <tr>\n",
       "      <th>version</th>\n",
       "      <th></th>\n",
       "      <th></th>\n",
       "      <th></th>\n",
       "    </tr>\n",
       "  </thead>\n",
       "  <tbody>\n",
       "    <tr>\n",
       "      <th>gate_30</th>\n",
       "      <td>417</td>\n",
       "      <td>0.995204</td>\n",
       "      <td>0.947242</td>\n",
       "    </tr>\n",
       "    <tr>\n",
       "      <th>gate_40</th>\n",
       "      <td>420</td>\n",
       "      <td>0.997619</td>\n",
       "      <td>0.961905</td>\n",
       "    </tr>\n",
       "  </tbody>\n",
       "</table>\n",
       "</div>"
      ],
      "text/plain": [
       "         userid  retention_1  retention_7\n",
       "version                                  \n",
       "gate_30     417     0.995204     0.947242\n",
       "gate_40     420     0.997619     0.961905"
      ]
     },
     "execution_count": 16,
     "metadata": {},
     "output_type": "execute_result"
    }
   ],
   "source": [
    "rounds_outliers = df[df['sum_gamerounds'] > 500]\n",
    "rounds_outliers.groupby('version').agg({'userid':'count', 'retention_1':np.mean, 'retention_7':np.mean})"
   ]
  },
  {
   "cell_type": "code",
   "execution_count": 17,
   "id": "3c6ab746-7cd9-445b-885e-846451867681",
   "metadata": {},
   "outputs": [],
   "source": [
    "df.drop(index=rounds_outliers.index, axis=0, inplace=True)"
   ]
  },
  {
   "cell_type": "markdown",
   "id": "36cf0dd1-ff61-4d08-b781-dabbc6ea05fb",
   "metadata": {},
   "source": [
    "Some players clearly love the game! They have played over 500 rounds during the duration of this test, but they are the outliers and will be dropped from the test. "
   ]
  },
  {
   "cell_type": "code",
   "execution_count": 18,
   "id": "c066f354-37ef-42bf-bacb-be8c3b390984",
   "metadata": {},
   "outputs": [
    {
     "data": {
      "image/png": "[encoded data removed]",
      "text/plain": [
       "<Figure size 864x576 with 1 Axes>"
      ]
     },
     "metadata": {
      "needs_background": "light"
     },
     "output_type": "display_data"
    }
   ],
   "source": [
    "fig, ax = plt.subplots(figsize=(12,8))\n",
    "plt.hist(df['sum_gamerounds'], bins=20)\n",
    "plt.title('Distribution of Rounds Played')\n",
    "plt.xlabel('Rounds Played')\n",
    "plt.ylabel('Count')\n",
    "plt.show()"
   ]
  },
  {
   "cell_type": "markdown",
   "id": "7de9073e-812c-4a10-b36b-cebefba0f01b",
   "metadata": {},
   "source": [
    "The distribution of the rounds played data is right-skewed. The majority of the players stopped playing at roughly round 50; the ECDF graph will show a clearer picture."
   ]
  },
  {
   "cell_type": "code",
   "execution_count": 19,
   "id": "61317b6b-809b-436b-93c1-6ec503151f7a",
   "metadata": {},
   "outputs": [
    {
     "data": {
      "image/png": "[encoded data removed]",
      "text/plain": [
       "<Figure size 864x576 with 1 Axes>"
      ]
     },
     "metadata": {
      "needs_background": "light"
     },
     "output_type": "display_data"
    }
   ],
   "source": [
    "x, y = ecdf(df['sum_gamerounds'])\n",
    "\n",
    "fig, ax = plt.subplots(figsize=(12,8))\n",
    "plt.plot(x, y, marker='.', linestyle='None', alpha=0.75)\n",
    "plt.title(\"ECDF of Rounds Played Without Outliers\")\n",
    "plt.xlabel('Rounds Played')\n",
    "plt.xticks(np.arange(0,501,50),np.arange(0,501,50))\n",
    "plt.ylabel('ECDF')\n",
    "plt.grid()"
   ]
  },
  {
   "cell_type": "code",
   "execution_count": 20,
   "id": "c1071419-2930-42af-a2b6-63acea01b41b",
   "metadata": {},
   "outputs": [
    {
     "data": {
      "text/plain": [
       "11.049176122118176"
      ]
     },
     "execution_count": 20,
     "metadata": {},
     "output_type": "execute_result"
    }
   ],
   "source": [
    "len(df[df['sum_gamerounds'] <= 1]) / len(df) * 100"
   ]
  },
  {
   "cell_type": "markdown",
   "id": "c8a05409-d4d9-42e2-88dd-a625c416a564",
   "metadata": {},
   "source": [
    "The ECDF graph shows that roughly 60% of the players stopped playing at round 30. This percentage increases to roughly 75% at round 50. There are also around 11% of users that downloaded the game but played one or less rounds. "
   ]
  },
  {
   "cell_type": "code",
   "execution_count": 21,
   "id": "f354af87-4109-4dd5-8d48-fe735dca3c3a",
   "metadata": {},
   "outputs": [
    {
     "data": {
      "image/png": "[encoded data removed]",
      "text/plain": [
       "<Figure size 864x576 with 1 Axes>"
      ]
     },
     "metadata": {
      "needs_background": "light"
     },
     "output_type": "display_data"
    }
   ],
   "source": [
    "fig, ax = plt.subplots(figsize=(12,8))\n",
    "df.loc[(df['version'] == 'gate_30') & (df['sum_gamerounds'] <= 50), 'sum_gamerounds'].plot(kind='kde', label='Gate 30')\n",
    "df.loc[(df['version'] == 'gate_40') & (df['sum_gamerounds'] <= 50), 'sum_gamerounds'].plot(kind='kde', label='Gate 40')\n",
    "plt.title('Density Graph of Rounds Played')\n",
    "plt.xlabel('Rounds Played')\n",
    "plt.xticks(np.arange(0,51,5), np.arange(0,51,5))\n",
    "plt.xlim(0,50)\n",
    "plt.grid()\n",
    "plt.legend()\n",
    "plt.show()"
   ]
  },
  {
   "cell_type": "markdown",
   "id": "81e533db-d545-42fa-aefa-bd77929dbd61",
   "metadata": {},
   "source": [
    "When comparing the user's round played density of the two versions, some differences emerge. For example, compared to the gate 30 version, the gate 40 version has more players that only play less than five rounds. Then, the two versions follow the same distribution until the thirty rounds played mark. Then, it is interesting to see that the proportion of players that reached round forty is higher in gate 30 than in the gate 40 version."
   ]
  },
  {
   "cell_type": "code",
   "execution_count": 22,
   "id": "8f984945-82b2-42ee-b4d2-880a0f13699e",
   "metadata": {},
   "outputs": [
    {
     "data": {
      "text/plain": [
       "version  retention_1\n",
       "gate_30  False          11.741527\n",
       "         True           81.103675\n",
       "gate_40  False          11.890617\n",
       "         True           81.418426\n",
       "Name: sum_gamerounds, dtype: float64"
      ]
     },
     "execution_count": 22,
     "metadata": {},
     "output_type": "execute_result"
    }
   ],
   "source": [
    "r1_avg_rounds = df.groupby(['version', 'retention_1']).sum_gamerounds.mean()\n",
    "r1_avg_rounds"
   ]
  },
  {
   "cell_type": "code",
   "execution_count": 23,
   "id": "3b8f9473-9cf0-4dd1-ab83-f510f3cf9ea8",
   "metadata": {},
   "outputs": [
    {
     "data": {
      "text/plain": [
       "version  retention_7\n",
       "gate_30  False           25.418537\n",
       "         True           149.623468\n",
       "gate_40  False           25.543690\n",
       "         True           153.137004\n",
       "Name: sum_gamerounds, dtype: float64"
      ]
     },
     "execution_count": 23,
     "metadata": {},
     "output_type": "execute_result"
    }
   ],
   "source": [
    "r7_avg_rounds = df.groupby(['version', 'retention_7']).sum_gamerounds.mean()\n",
    "r7_avg_rounds"
   ]
  },
  {
   "cell_type": "markdown",
   "id": "76129c29-4391-48f0-9eb0-b5b6ac96f3db",
   "metadata": {},
   "source": [
    "The average round played for the seven-day retention group is significantly higher than the one-day ground. This observation makes sense as the more days a user plays, the higher level they should reach. In the one-day retention group, both versions have similar results. However, in the seven-day retention group, players in the gate 40 version average about 3.5 levels higher compared to the other."
   ]
  },
  {
   "cell_type": "markdown",
   "id": "c9781c30-970a-4de3-b43a-2bda89563189",
   "metadata": {},
   "source": [
    "## Retention Rates"
   ]
  },
  {
   "cell_type": "code",
   "execution_count": 24,
   "id": "56f3378b-ea8c-4f38-a673-793cc66b1153",
   "metadata": {},
   "outputs": [
    {
     "data": {
      "text/html": [
       "<div>\n",
       "<style scoped>\n",
       "    .dataframe tbody tr th:only-of-type {\n",
       "        vertical-align: middle;\n",
       "    }\n",
       "\n",
       "    .dataframe tbody tr th {\n",
       "        vertical-align: top;\n",
       "    }\n",
       "\n",
       "    .dataframe thead th {\n",
       "        text-align: right;\n",
       "    }\n",
       "</style>\n",
       "<table border=\"1\" class=\"dataframe\">\n",
       "  <thead>\n",
       "    <tr style=\"text-align: right;\">\n",
       "      <th></th>\n",
       "      <th>retention_1</th>\n",
       "      <th>retention_7</th>\n",
       "    </tr>\n",
       "    <tr>\n",
       "      <th>version</th>\n",
       "      <th></th>\n",
       "      <th></th>\n",
       "    </tr>\n",
       "  </thead>\n",
       "  <tbody>\n",
       "    <tr>\n",
       "      <th>gate_30</th>\n",
       "      <td>46.209106</td>\n",
       "      <td>14.793791</td>\n",
       "    </tr>\n",
       "    <tr>\n",
       "      <th>gate_40</th>\n",
       "      <td>45.500739</td>\n",
       "      <td>14.093681</td>\n",
       "    </tr>\n",
       "  </tbody>\n",
       "</table>\n",
       "</div>"
      ],
      "text/plain": [
       "         retention_1  retention_7\n",
       "version                          \n",
       "gate_30    46.209106    14.793791\n",
       "gate_40    45.500739    14.093681"
      ]
     },
     "execution_count": 24,
     "metadata": {},
     "output_type": "execute_result"
    }
   ],
   "source": [
    "df.groupby('version')[['retention_1', 'retention_7']].mean() * 100"
   ]
  },
  {
   "cell_type": "markdown",
   "id": "1ec8b939-0918-4b32-8000-2b16d0348f89",
   "metadata": {},
   "source": [
    "The initial observation shows that the 40-gate version has a roughly 0.7% lower retention rate in one and seven-day metrics. The seven-day retention rate is lower than the one-day; this makes sense as many players download the game to see if they enjoy it."
   ]
  },
  {
   "cell_type": "code",
   "execution_count": 25,
   "id": "a73201ae-a048-48b9-b9a2-e168f3504bef",
   "metadata": {},
   "outputs": [],
   "source": [
    "def retention_perc(day):\n",
    "    # args(int): 1 or 7 for retention group\n",
    "    retention_dict = {}\n",
    "    col = 'retention_{}'.format(day)\n",
    "    for i in np.arange(30,51,10):\n",
    "        retention_dict[i] = df[df['sum_gamerounds'] <= i].groupby('version')[col].mean() * 100\n",
    "    result_df = pd.DataFrame(retention_dict).T\n",
    "    result_df['relative_percentage_diff'] = (result_df['gate_30'] - result_df['gate_40'])  / result_df['gate_40'] * 100\n",
    "    return result_df"
   ]
  },
  {
   "cell_type": "code",
   "execution_count": 26,
   "id": "c92f6d51-3dc2-4ca2-8913-b4818eb8d89c",
   "metadata": {},
   "outputs": [
    {
     "data": {
      "text/html": [
       "<div>\n",
       "<style scoped>\n",
       "    .dataframe tbody tr th:only-of-type {\n",
       "        vertical-align: middle;\n",
       "    }\n",
       "\n",
       "    .dataframe tbody tr th {\n",
       "        vertical-align: top;\n",
       "    }\n",
       "\n",
       "    .dataframe thead th {\n",
       "        text-align: right;\n",
       "    }\n",
       "</style>\n",
       "<table border=\"1\" class=\"dataframe\">\n",
       "  <thead>\n",
       "    <tr style=\"text-align: right;\">\n",
       "      <th>version</th>\n",
       "      <th>gate_30</th>\n",
       "      <th>gate_40</th>\n",
       "      <th>relative_percentage_diff</th>\n",
       "    </tr>\n",
       "  </thead>\n",
       "  <tbody>\n",
       "    <tr>\n",
       "      <th>30</th>\n",
       "      <td>24.838208</td>\n",
       "      <td>24.608485</td>\n",
       "      <td>0.93351</td>\n",
       "    </tr>\n",
       "    <tr>\n",
       "      <th>40</th>\n",
       "      <td>29.050846</td>\n",
       "      <td>28.319495</td>\n",
       "      <td>2.58250</td>\n",
       "    </tr>\n",
       "    <tr>\n",
       "      <th>50</th>\n",
       "      <td>32.085677</td>\n",
       "      <td>30.972079</td>\n",
       "      <td>3.59549</td>\n",
       "    </tr>\n",
       "  </tbody>\n",
       "</table>\n",
       "</div>"
      ],
      "text/plain": [
       "version    gate_30    gate_40  relative_percentage_diff\n",
       "30       24.838208  24.608485                   0.93351\n",
       "40       29.050846  28.319495                   2.58250\n",
       "50       32.085677  30.972079                   3.59549"
      ]
     },
     "execution_count": 26,
     "metadata": {},
     "output_type": "execute_result"
    }
   ],
   "source": [
    "retention_perc(1)"
   ]
  },
  {
   "cell_type": "code",
   "execution_count": 27,
   "id": "ab7e4660-efbc-4519-b45a-9bb96bb32d47",
   "metadata": {},
   "outputs": [
    {
     "data": {
      "text/html": [
       "<div>\n",
       "<style scoped>\n",
       "    .dataframe tbody tr th:only-of-type {\n",
       "        vertical-align: middle;\n",
       "    }\n",
       "\n",
       "    .dataframe tbody tr th {\n",
       "        vertical-align: top;\n",
       "    }\n",
       "\n",
       "    .dataframe thead th {\n",
       "        text-align: right;\n",
       "    }\n",
       "</style>\n",
       "<table border=\"1\" class=\"dataframe\">\n",
       "  <thead>\n",
       "    <tr style=\"text-align: right;\">\n",
       "      <th>version</th>\n",
       "      <th>gate_30</th>\n",
       "      <th>gate_40</th>\n",
       "      <th>relative_percentage_diff</th>\n",
       "    </tr>\n",
       "  </thead>\n",
       "  <tbody>\n",
       "    <tr>\n",
       "      <th>30</th>\n",
       "      <td>1.999349</td>\n",
       "      <td>1.765757</td>\n",
       "      <td>13.229017</td>\n",
       "    </tr>\n",
       "    <tr>\n",
       "      <th>40</th>\n",
       "      <td>2.832073</td>\n",
       "      <td>2.535882</td>\n",
       "      <td>11.679988</td>\n",
       "    </tr>\n",
       "    <tr>\n",
       "      <th>50</th>\n",
       "      <td>3.712240</td>\n",
       "      <td>3.251414</td>\n",
       "      <td>14.173082</td>\n",
       "    </tr>\n",
       "  </tbody>\n",
       "</table>\n",
       "</div>"
      ],
      "text/plain": [
       "version   gate_30   gate_40  relative_percentage_diff\n",
       "30       1.999349  1.765757                 13.229017\n",
       "40       2.832073  2.535882                 11.679988\n",
       "50       3.712240  3.251414                 14.173082"
      ]
     },
     "execution_count": 27,
     "metadata": {},
     "output_type": "execute_result"
    }
   ],
   "source": [
    "retention_perc(7)"
   ]
  },
  {
   "cell_type": "markdown",
   "id": "e98a3572-7287-4487-928f-adff258f0eee",
   "metadata": {},
   "source": [
    "When comparing the one-day retention rate of the different levels played, both versions have similar proportions up to round 30, with the gate 30 version slightly higher. However, when looking at players that reached level 40 or 50, the gate 30 version has a 0.7% and 1.5% absolute increase in retention rate. This increase equates to a 2.58% and 3.6% relative increase.\n",
    "\n",
    "The 30 gate version is higher in the seven-day metric, and the results are more pronounced. There is over a 10% relative difference between the two versions in all three measurements."
   ]
  },
  {
   "cell_type": "markdown",
   "id": "0c7ffd01-1289-405c-866e-9b9d77a40cbb",
   "metadata": {},
   "source": [
    "# A/B Test\n",
    "\n",
    "I will use two different A/B testing methods to determine if the two different versions are statistically significant. \n",
    "\n",
    "### Hypothesis Test\n",
    "\n",
    "- Define testing parameters\n",
    "- Determine if the samples meet the normal condition\n",
    "- Calculate confidence interval\n",
    "- Calculate P-Value\n",
    "- Determine if $H_0$ can be rejected\n",
    "\n",
    "#### Testing Parameters\n",
    "\n",
    "- Control = Version Gate_30\n",
    "- Treatment = Version Gate_40\n",
    "\n",
    "$H_0$: $p_c$ = $p_t$\n",
    "\n",
    "$H_a$: $p_c$ $\\neq$ $p_t$\n",
    "\n",
    "$alpha$ = 0.05"
   ]
  },
  {
   "cell_type": "code",
   "execution_count": 28,
   "id": "c9382167-b5d2-4514-a858-7eadf9b34b95",
   "metadata": {},
   "outputs": [
    {
     "data": {
      "text/html": [
       "<div>\n",
       "<style scoped>\n",
       "    .dataframe tbody tr th:only-of-type {\n",
       "        vertical-align: middle;\n",
       "    }\n",
       "\n",
       "    .dataframe tbody tr th {\n",
       "        vertical-align: top;\n",
       "    }\n",
       "\n",
       "    .dataframe thead th {\n",
       "        text-align: right;\n",
       "    }\n",
       "</style>\n",
       "<table border=\"1\" class=\"dataframe\">\n",
       "  <thead>\n",
       "    <tr style=\"text-align: right;\">\n",
       "      <th></th>\n",
       "      <th>userid</th>\n",
       "      <th>version</th>\n",
       "      <th>sum_gamerounds</th>\n",
       "      <th>retention_1</th>\n",
       "      <th>retention_7</th>\n",
       "      <th>group</th>\n",
       "    </tr>\n",
       "  </thead>\n",
       "  <tbody>\n",
       "    <tr>\n",
       "      <th>0</th>\n",
       "      <td>116</td>\n",
       "      <td>gate_30</td>\n",
       "      <td>3</td>\n",
       "      <td>False</td>\n",
       "      <td>False</td>\n",
       "      <td>control</td>\n",
       "    </tr>\n",
       "    <tr>\n",
       "      <th>1</th>\n",
       "      <td>337</td>\n",
       "      <td>gate_30</td>\n",
       "      <td>38</td>\n",
       "      <td>True</td>\n",
       "      <td>False</td>\n",
       "      <td>control</td>\n",
       "    </tr>\n",
       "    <tr>\n",
       "      <th>2</th>\n",
       "      <td>377</td>\n",
       "      <td>gate_40</td>\n",
       "      <td>165</td>\n",
       "      <td>True</td>\n",
       "      <td>False</td>\n",
       "      <td>treatment</td>\n",
       "    </tr>\n",
       "    <tr>\n",
       "      <th>3</th>\n",
       "      <td>483</td>\n",
       "      <td>gate_40</td>\n",
       "      <td>1</td>\n",
       "      <td>False</td>\n",
       "      <td>False</td>\n",
       "      <td>treatment</td>\n",
       "    </tr>\n",
       "    <tr>\n",
       "      <th>4</th>\n",
       "      <td>488</td>\n",
       "      <td>gate_40</td>\n",
       "      <td>179</td>\n",
       "      <td>True</td>\n",
       "      <td>True</td>\n",
       "      <td>treatment</td>\n",
       "    </tr>\n",
       "    <tr>\n",
       "      <th>...</th>\n",
       "      <td>...</td>\n",
       "      <td>...</td>\n",
       "      <td>...</td>\n",
       "      <td>...</td>\n",
       "      <td>...</td>\n",
       "      <td>...</td>\n",
       "    </tr>\n",
       "    <tr>\n",
       "      <th>90184</th>\n",
       "      <td>9999441</td>\n",
       "      <td>gate_40</td>\n",
       "      <td>97</td>\n",
       "      <td>True</td>\n",
       "      <td>False</td>\n",
       "      <td>treatment</td>\n",
       "    </tr>\n",
       "    <tr>\n",
       "      <th>90185</th>\n",
       "      <td>9999479</td>\n",
       "      <td>gate_40</td>\n",
       "      <td>30</td>\n",
       "      <td>False</td>\n",
       "      <td>False</td>\n",
       "      <td>treatment</td>\n",
       "    </tr>\n",
       "    <tr>\n",
       "      <th>90186</th>\n",
       "      <td>9999710</td>\n",
       "      <td>gate_30</td>\n",
       "      <td>28</td>\n",
       "      <td>True</td>\n",
       "      <td>False</td>\n",
       "      <td>control</td>\n",
       "    </tr>\n",
       "    <tr>\n",
       "      <th>90187</th>\n",
       "      <td>9999768</td>\n",
       "      <td>gate_40</td>\n",
       "      <td>51</td>\n",
       "      <td>True</td>\n",
       "      <td>False</td>\n",
       "      <td>treatment</td>\n",
       "    </tr>\n",
       "    <tr>\n",
       "      <th>90188</th>\n",
       "      <td>9999861</td>\n",
       "      <td>gate_40</td>\n",
       "      <td>16</td>\n",
       "      <td>False</td>\n",
       "      <td>False</td>\n",
       "      <td>treatment</td>\n",
       "    </tr>\n",
       "  </tbody>\n",
       "</table>\n",
       "<p>85753 rows × 6 columns</p>\n",
       "</div>"
      ],
      "text/plain": [
       "        userid  version  sum_gamerounds  retention_1  retention_7      group\n",
       "0          116  gate_30               3        False        False    control\n",
       "1          337  gate_30              38         True        False    control\n",
       "2          377  gate_40             165         True        False  treatment\n",
       "3          483  gate_40               1        False        False  treatment\n",
       "4          488  gate_40             179         True         True  treatment\n",
       "...        ...      ...             ...          ...          ...        ...\n",
       "90184  9999441  gate_40              97         True        False  treatment\n",
       "90185  9999479  gate_40              30        False        False  treatment\n",
       "90186  9999710  gate_30              28         True        False    control\n",
       "90187  9999768  gate_40              51         True        False  treatment\n",
       "90188  9999861  gate_40              16        False        False  treatment\n",
       "\n",
       "[85753 rows x 6 columns]"
      ]
     },
     "execution_count": 28,
     "metadata": {},
     "output_type": "execute_result"
    }
   ],
   "source": [
    "df['group'] = np.where(df['version'] == 'gate_30', 'control', 'treatment')\n",
    "df"
   ]
  },
  {
   "cell_type": "code",
   "execution_count": 29,
   "id": "58ccdd4a-2f7e-4bfb-8176-61d450ef3e26",
   "metadata": {},
   "outputs": [],
   "source": [
    "def check_normal(df, metric):\n",
    "    '''\n",
    "    tests if the sample is normal, \n",
    "    criteria: if expected success & failure are both at least 10 for each group\n",
    "    args:\n",
    "        df: dataframe to test\n",
    "        metric: retention_1 or retention_7\n",
    "    return:\n",
    "        bool: whether the sample meets the normal condition\n",
    "    '''\n",
    "    control = df.loc[df['group'] == 'control', metric]\n",
    "    treatment = df.loc[df['group'] == 'treatment', metric]\n",
    "    \n",
    "    c_prob_success = control.mean()\n",
    "    c_prob_failure = 1 - c_prob_success\n",
    "    \n",
    "    c_es = control.sum() * c_prob_success\n",
    "    c_ef = (control == False).sum() * c_prob_failure\n",
    "    \n",
    "    t_prob_success = treatment.mean()\n",
    "    t_prob_failure = 1 - t_prob_success\n",
    "    \n",
    "    t_es = treatment.sum() * t_prob_success\n",
    "    t_ef = (treatment == False).sum() * t_prob_failure\n",
    "    \n",
    "    \n",
    "    if c_es >= 10 and c_ef >= 10 and t_es >= 10 and t_ef >= 10:\n",
    "        return 'The samples are normal!'\n",
    "    else:\n",
    "        return 'The samples are NOT normal!'"
   ]
  },
  {
   "cell_type": "code",
   "execution_count": 30,
   "id": "6f505b82-1e9a-40aa-af35-71e055fd1b51",
   "metadata": {},
   "outputs": [],
   "source": [
    "def confidence_int(df, metric, alpha=0.05, n_sides=2):\n",
    "    '''\n",
    "    calculates lower and upper bound of confidence interval using z-stats\n",
    "    args:\n",
    "        df\n",
    "        metric: retention_1 or retention_7\n",
    "        alpha(float): significance level, default 0.05\n",
    "        n_sides(int): 1 or 2 depending on the num sides of test\n",
    "    return:\n",
    "        tuple: lower and upper bound of confidence interval\n",
    "    '''\n",
    "    from scipy import stats\n",
    "    \n",
    "    control = df.loc[df['group'] == 'control', metric]\n",
    "    treatment = df.loc[df['group'] == 'treatment', metric]\n",
    "    \n",
    "    z_crit = stats.norm.ppf(1-alpha/n_sides)\n",
    "    \n",
    "    control_p = control.mean()\n",
    "    control_sigma = control_p * (1-control_p) / len(control)\n",
    "    treatment_p = treatment.mean()\n",
    "    treatment_sigma = treatment_p * (1-treatment_p) / len(treatment)\n",
    "    \n",
    "    effect_size = control.mean() - treatment.mean()\n",
    "    delta = np.sqrt(control_sigma + treatment_sigma)\n",
    "    \n",
    "    lower_bound = effect_size - z_crit * delta\n",
    "    upper_bound = effect_size + z_crit * delta\n",
    "    \n",
    "    return (lower_bound, upper_bound)"
   ]
  },
  {
   "cell_type": "code",
   "execution_count": 31,
   "id": "0c95fa2f-5041-4dae-8379-ee649f6855e8",
   "metadata": {},
   "outputs": [],
   "source": [
    "def two_proportion_z_test(df, metric, alpha=0.05, n_sides=2):\n",
    "    '''\n",
    "    Calculates the P-Value using Z-statistics,\n",
    "    this function assumes null hypothesis is the two sample proportions are equal\n",
    "    args:\n",
    "        df\n",
    "        metric: retention_1 or retention_7\n",
    "        alpha(float): significance level, default 0.05\n",
    "        n_sides(int): 1 or 2 depending on the num sides of test\n",
    "    return:\n",
    "        dictionary of Z-Score, P-Value and if H0 is rejected\n",
    "    '''\n",
    "    \n",
    "    from scipy import stats\n",
    "    control = df.loc[df['group'] == 'control', metric]\n",
    "    treatment = df.loc[df['group'] == 'treatment', metric]\n",
    "    \n",
    "    effect_size = control.mean() - treatment.mean()\n",
    "    p_given_h0 = (control.sum() + treatment.sum()) / (len(control) + len(treatment))\n",
    "    std_given_h0 = np.sqrt(p_given_h0*(1-p_given_h0)/len(control) + p_given_h0*(1-p_given_h0)/len(treatment))\n",
    "    \n",
    "    z_score = effect_size / std_given_h0\n",
    "    p_value = stats.norm.sf(z_score)*2\n",
    "    \n",
    "    if p_value < alpha:\n",
    "        result = 'Reject H0'\n",
    "    else:\n",
    "        result = 'Unable to reject H0'\n",
    "    result_dict = {'z_score':z_score,\n",
    "                  'p_value':p_value,\n",
    "                  'result':result}\n",
    "    \n",
    "    return result_dict"
   ]
  },
  {
   "cell_type": "markdown",
   "id": "d572451f-5b02-4c12-b0d2-20de10878b63",
   "metadata": {},
   "source": [
    "## One-day Retention"
   ]
  },
  {
   "cell_type": "code",
   "execution_count": 32,
   "id": "cf4c1243-74cb-486d-92ec-aa31e74bad1a",
   "metadata": {},
   "outputs": [
    {
     "data": {
      "text/plain": [
       "'The samples are normal!'"
      ]
     },
     "execution_count": 32,
     "metadata": {},
     "output_type": "execute_result"
    }
   ],
   "source": [
    "#Normal Test\n",
    "check_normal(df, 'retention_1')"
   ]
  },
  {
   "cell_type": "code",
   "execution_count": 33,
   "id": "0a5330a5-434e-48f2-a5cd-9d73dfd66a2d",
   "metadata": {},
   "outputs": [
    {
     "data": {
      "text/plain": [
       "(0.00041347553664948435, 0.013753856165295467)"
      ]
     },
     "execution_count": 33,
     "metadata": {},
     "output_type": "execute_result"
    }
   ],
   "source": [
    "#Confidence interval\n",
    "confidence_int(df, 'retention_1')"
   ]
  },
  {
   "cell_type": "code",
   "execution_count": 34,
   "id": "7730970c-26a8-4217-ad86-236bf73d4c64",
   "metadata": {},
   "outputs": [
    {
     "data": {
      "text/plain": [
       "{'z_score': 2.081430847489595,\n",
       " 'p_value': 0.037394487605666056,\n",
       " 'result': 'Reject H0'}"
      ]
     },
     "execution_count": 34,
     "metadata": {},
     "output_type": "execute_result"
    }
   ],
   "source": [
    "#Z Proportion Test\n",
    "two_proportion_z_test(df, 'retention_1')"
   ]
  },
  {
   "cell_type": "markdown",
   "id": "ab230454-e8a8-44a3-8598-03be6c2c66a1",
   "metadata": {},
   "source": [
    "The samples for the one-day retention metric passed the normal test. Therefore, I can conclude with 95% confidence that the actual population difference between the treatment and control groups is between 0.0004 and 0.0138. Additionally, the Z-Test resulted in a Z-Score of over 2, given that the null hypothesis is true, which equates to a P-Value of 0.03. This result allowed me to reject the null hypothesis and conclude a statistically significant difference between the gate 30 and gate 40 player retention rates."
   ]
  },
  {
   "cell_type": "markdown",
   "id": "693f62c8-7ae7-4e1a-8e25-3aaef53e7323",
   "metadata": {},
   "source": [
    "## Seven-day Retention"
   ]
  },
  {
   "cell_type": "code",
   "execution_count": 35,
   "id": "784217ce-a216-4356-b5dd-45bb105c87f6",
   "metadata": {},
   "outputs": [
    {
     "data": {
      "text/plain": [
       "'The samples are normal!'"
      ]
     },
     "execution_count": 35,
     "metadata": {},
     "output_type": "execute_result"
    }
   ],
   "source": [
    "#Normal Test\n",
    "check_normal(df, 'retention_7')"
   ]
  },
  {
   "cell_type": "code",
   "execution_count": 36,
   "id": "5489955e-4442-4c54-885f-12b82f71d437",
   "metadata": {},
   "outputs": [
    {
     "data": {
      "text/plain": [
       "(0.0022950065277694293, 0.011707206589172124)"
      ]
     },
     "execution_count": 36,
     "metadata": {},
     "output_type": "execute_result"
    }
   ],
   "source": [
    "#Confidence interval\n",
    "confidence_int(df, 'retention_7')"
   ]
  },
  {
   "cell_type": "code",
   "execution_count": 37,
   "id": "c0ad1fb1-9e6a-4370-98d8-b7cf7be58f4c",
   "metadata": {},
   "outputs": [
    {
     "data": {
      "text/plain": [
       "{'z_score': 2.9162025966385587,\n",
       " 'p_value': 0.0035432034137403952,\n",
       " 'result': 'Reject H0'}"
      ]
     },
     "execution_count": 37,
     "metadata": {},
     "output_type": "execute_result"
    }
   ],
   "source": [
    "#Z Proportion Test\n",
    "two_proportion_z_test(df, 'retention_7')"
   ]
  },
  {
   "cell_type": "markdown",
   "id": "860dd2f3-a44b-451c-9a91-c59c948a246a",
   "metadata": {},
   "source": [
    "The result for the seven-day retention metric is similar to the one-day retention. This sample also passed the normal test, and I conclude with 95% confidence that the actual difference in the proportion is between 0.002 and 0.0117. The Z-test resulted in a Z-Score of 2.916 with a P-Value of 0.004. This result also allowed me to reject the null hypothesis and determine a statistically significant difference between the two gates' retention rates."
   ]
  },
  {
   "cell_type": "markdown",
   "id": "623492c8-5cb6-45c4-a473-87906e97d160",
   "metadata": {},
   "source": [
    "## Bootstrap Permutations\n",
    "\n",
    "This technique repeatedly samples each group with replacements, then mixes thegroups with a random permutation. Next, I slice them to the length of the original groups and calculate the mean of each group. Lastly, I find the difference between the means and store them in an array. Finally, I find the probability of occurrences that are at least as extreme as the effect size of the original data. This number will be the P-Value of this test, and I will compare it to the alpha stated in the hypothesis."
   ]
  },
  {
   "cell_type": "code",
   "execution_count": 38,
   "id": "b880b6b0-8198-4667-a345-a84e544ea636",
   "metadata": {},
   "outputs": [],
   "source": [
    "def permutation(df1, df2):\n",
    "    temp_df = np.concatenate((df1, df2))\n",
    "    temp_df = np.random.permutation(temp_df)\n",
    "    \n",
    "    temp_df1 = temp_df[:len(df1)]\n",
    "    temp_df2 = temp_df[len(df1):]\n",
    "    \n",
    "    return temp_df1, temp_df2"
   ]
  },
  {
   "cell_type": "code",
   "execution_count": 39,
   "id": "d422c681-413a-4c76-a77e-a90d51e23d47",
   "metadata": {},
   "outputs": [],
   "source": [
    "def bootstrap_permutation_rep(df, metric, n, func):\n",
    "    \n",
    "    control = df.loc[df['group'] == 'control', metric]\n",
    "    treatment = df.loc[df['group'] == 'treatment', metric]\n",
    "    \n",
    "    result_array = np.zeros(n)\n",
    "    \n",
    "    for i in range(n):\n",
    "        bs_control = np.random.choice(control, replace=True, size=len(control))\n",
    "        bs_treat = np.random.choice(treatment, replace=True, size=len(treatment))\n",
    "        bs1, bs2 = permutation(bs_control, bs_treat)\n",
    "        \n",
    "        result_array[i] = func(bs1) - func(bs2)\n",
    "    return result_array"
   ]
  },
  {
   "cell_type": "markdown",
   "id": "d2b9ec27-1b0b-4ae9-81c0-54cb2dd20427",
   "metadata": {},
   "source": [
    "### One-day Retention"
   ]
  },
  {
   "cell_type": "code",
   "execution_count": 40,
   "id": "3ec58173-5d91-470c-bcef-4bd8fd6224ed",
   "metadata": {},
   "outputs": [],
   "source": [
    "bootstrap_reps_1day = bootstrap_permutation_rep(df, 'retention_1', 10000, np.mean)"
   ]
  },
  {
   "cell_type": "code",
   "execution_count": 51,
   "id": "41296425-e7f8-4543-971d-e3a0313d311b",
   "metadata": {},
   "outputs": [
    {
     "data": {
      "text/plain": [
       "0.007083665850972476"
      ]
     },
     "execution_count": 51,
     "metadata": {},
     "output_type": "execute_result"
    }
   ],
   "source": [
    "effect_size_1d = df.loc[df['group'] == 'control', 'retention_1'].mean() - df.loc[df['group'] == 'treatment', 'retention_1'].mean()\n",
    "effect_size_1d"
   ]
  },
  {
   "cell_type": "code",
   "execution_count": 43,
   "id": "1545463c-9911-4347-9935-6baf7c5524e6",
   "metadata": {},
   "outputs": [
    {
     "data": {
      "image/png": "[encoded data removed]",
      "text/plain": [
       "<Figure size 576x432 with 1 Axes>"
      ]
     },
     "metadata": {
      "needs_background": "light"
     },
     "output_type": "display_data"
    }
   ],
   "source": [
    "fig, ax = plt.subplots(figsize=(8,6))\n",
    "plt.hist(bootstrap_reps_1day)\n",
    "plt.title('Bootstrap Replicates of Proportion Difference')\n",
    "plt.xlabel('Difference in Proportions')\n",
    "plt.ylabel('Count')\n",
    "plt.axvline(effect_size_1d, color='red')\n",
    "plt.show()"
   ]
  },
  {
   "cell_type": "code",
   "execution_count": 45,
   "id": "c8a03a7f-a568-47da-a272-1f4b26611333",
   "metadata": {},
   "outputs": [
    {
     "data": {
      "text/plain": [
       "0.0382"
      ]
     },
     "execution_count": 45,
     "metadata": {},
     "output_type": "execute_result"
    }
   ],
   "source": [
    "p_value_1d = (abs(bootstrap_reps_1day) > effect_size_1d).sum() / len(bootstrap_reps_1day)\n",
    "p_value_1d"
   ]
  },
  {
   "cell_type": "markdown",
   "id": "693206aa-be52-41aa-b6dd-674acfe4a9df",
   "metadata": {},
   "source": [
    "The result for the bootstrap test is the same as the Z-Test; there is only a 3.6% chance of getting a difference at least as extreme as the one observed in this data. Therefore, I can reject the null hypothesis and determine a statistically significant difference between the two gates."
   ]
  },
  {
   "cell_type": "markdown",
   "id": "39398638-33e7-4438-8b60-b967306ca3fd",
   "metadata": {},
   "source": [
    "### Seven-day Retention"
   ]
  },
  {
   "cell_type": "code",
   "execution_count": 46,
   "id": "6823fea2-b546-4ba2-a15f-679763241cb0",
   "metadata": {},
   "outputs": [],
   "source": [
    "bootstrap_reps_7day = bootstrap_permutation_rep(df, 'retention_7', 10000, np.mean)"
   ]
  },
  {
   "cell_type": "code",
   "execution_count": 52,
   "id": "14db3a36-4044-49e6-aa7b-6783a719eaa5",
   "metadata": {},
   "outputs": [
    {
     "data": {
      "text/plain": [
       "0.0070011065584707766"
      ]
     },
     "execution_count": 52,
     "metadata": {},
     "output_type": "execute_result"
    }
   ],
   "source": [
    "effect_size_7d = df.loc[df['group'] == 'control', 'retention_7'].mean() - df.loc[df['group'] == 'treatment', 'retention_7'].mean()\n",
    "effect_size_7d"
   ]
  },
  {
   "cell_type": "code",
   "execution_count": 49,
   "id": "d639d727-698c-4b2f-ae3b-c04a8f0b006f",
   "metadata": {},
   "outputs": [
    {
     "data": {
      "image/png": "[encoded data removed]",
      "text/plain": [
       "<Figure size 576x432 with 1 Axes>"
      ]
     },
     "metadata": {
      "needs_background": "light"
     },
     "output_type": "display_data"
    }
   ],
   "source": [
    "fig, ax = plt.subplots(figsize=(8,6))\n",
    "plt.hist(bootstrap_reps_7day)\n",
    "plt.title('Bootstrap Replicates of Proportion Difference')\n",
    "plt.xlabel('Difference in Proportions')\n",
    "plt.ylabel('Count')\n",
    "plt.axvline(effect_size_7d, color='red')\n",
    "plt.show()"
   ]
  },
  {
   "cell_type": "code",
   "execution_count": 50,
   "id": "d6a061c0-482d-4584-9959-2a3900bcb02d",
   "metadata": {},
   "outputs": [
    {
     "data": {
      "text/plain": [
       "0.0038"
      ]
     },
     "execution_count": 50,
     "metadata": {},
     "output_type": "execute_result"
    }
   ],
   "source": [
    "p_value_7d = (abs(bootstrap_reps_7day) > effect_size_7d).sum() / len(bootstrap_reps_7day)\n",
    "p_value_7d"
   ]
  },
  {
   "cell_type": "markdown",
   "id": "fa8c0248-82fd-4981-a475-7c95b3ae6b8f",
   "metadata": {},
   "source": [
    "Similar to the one-day retention rates, there is also a statistically significant difference between the different groups in the seven-day retentions. The resulting P-Value is 0.004, which means there is only a 0.4% chance of getting a difference as extreme as the observed effect size. Therefore, I can reject the null hypothesis for this metric as well."
   ]
  },
  {
   "cell_type": "markdown",
   "id": "83567e0f-42ba-4af1-a0fd-65565bc775c4",
   "metadata": {},
   "source": [
    "## Result and Recommendations"
   ]
  },
  {
   "cell_type": "markdown",
   "id": "7412226d-ccd9-41db-9caf-021720d2e044",
   "metadata": {},
   "source": [
    "This project aimed to determine if the retention rates in the one-day and seven-day rates are statistically significant when comparing the two different versions. The gate-30 version has a roughly 0.7% higher retention rate in both metrics. Additionally, the analysis shows a higher proportion of players reached at least level 40 in the gate-30 version. The retention rate also increases as players reach a higher level; this makes sense, as the ones who enjoy the game will likely come back to play.\n",
    "\n",
    "The results from both the Z-Statistic test and the Bootstrap permutation test conclude that there is a statistically significant difference in the retention rate in both metrics. \n",
    "\n",
    "#### Result Summary for One-Day Retention\n",
    "\n",
    "The 95% confidence interval for the difference in the population retention rate in the one-day retention is between 0.0004 and 0.0138. The effect size observed in this dataset was 0.007, within the range of this interval. The Z-Test for the one-day retention metric resulted in a P-Value of 0.037. At the same time, the bootstrap test yielded a similar P-Value of 0.0382. Both of these results are below the significance level set at 0.05. Therefore I can reject the null hypothesis and conclude that there is a statistical difference between these versions.\n",
    "\n",
    "#### Result Summary for Seven-Day Retention\n",
    "\n",
    "The results for the seven-day metric are that there is also a statistically significant difference between the retention rates between the versions. This metric's 95% confidence interval is between 0.002 and 0.0117; the effect size observed in this data was 0.007 within the interval. Additionally, the P-Value for the Z-test and the bootstrap test were 0.0035 and 0.0038, respectively. Therefore, I can also reject the null hypothesis and conclude there is a statistically significant difference.\n",
    "\n",
    "#### Recommendation\n",
    "\n",
    "I recommend proceeding with the gate-30 version; this resulted in a higher retention rate in both metrics. Additionally, there is a noticeable increase in the retention rate in both metrics when players reach level 50. The organization should explore ways to incentivize players to reach level 50, then repeat this test.\n"
   ]
  },
  {
   "cell_type": "code",
   "execution_count": null,
   "id": "d6c17e36-7c23-4f73-bdc3-1d87a8794f62",
   "metadata": {},
   "outputs": [],
   "source": []
  }
 ],
 "metadata": {
  "kernelspec": {
   "display_name": "Python 3",
   "language": "python",
   "name": "python3"
  },
  "language_info": {
   "codemirror_mode": {
    "name": "ipython",
    "version": 3
   },
   "file_extension": ".py",
   "mimetype": "text/x-python",
   "name": "python",
   "nbconvert_exporter": "python",
   "pygments_lexer": "ipython3",
   "version": "3.8.8"
  }
 },
 "nbformat": 4,
 "nbformat_minor": 5
}
